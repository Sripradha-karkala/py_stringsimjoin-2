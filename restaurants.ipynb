{
 "cells": [
  {
   "cell_type": "code",
   "execution_count": 2,
   "metadata": {
    "collapsed": false
   },
   "outputs": [],
   "source": [
    "import py_stringsimjoin as ssj\n",
    "from py_stringsimjoin.debugmatcher.debug_matcher import *\n",
    "from py_stringsimjoin.labeler.labeler import *\n",
    "from py_stringsimjoin.active_learner.active_learner import *\n",
    "from sklearn.linear_model import LogisticRegression\n",
    "import pandas as pd\n",
    "import py_stringmatching as sm\n",
    "from py_stringsimjoin.sampler.sample import *\n",
    "from py_stringsimjoin.feature.autofeaturegen import *\n",
    "from py_stringsimjoin.feature.extractfeatures import *\n",
    "from py_stringsimjoin.utils.tokenizers import *"
   ]
  },
  {
   "cell_type": "code",
   "execution_count": 3,
   "metadata": {
    "collapsed": true
   },
   "outputs": [],
   "source": [
    "ws=sm.WhitespaceTokenizer(return_set=True)\n",
    "qg2=sm.QgramTokenizer(qval=2,return_set=True)\n",
    "qg3=sm.QgramTokenizer(qval=3,return_set=True)\n",
    "num=NumericTokenizer(return_set=True)"
   ]
  },
  {
   "cell_type": "code",
   "execution_count": 4,
   "metadata": {
    "collapsed": true
   },
   "outputs": [],
   "source": [
    "ldf=pd.read_csv('http://pages.cs.wisc.edu/~anhai/data/corleone_data/restaurants/fodors.csv')\n",
    "rdf=pd.read_csv('http://pages.cs.wisc.edu/~anhai/data/corleone_data/restaurants/zagats.csv')"
   ]
  },
  {
   "cell_type": "code",
   "execution_count": 5,
   "metadata": {
    "collapsed": false
   },
   "outputs": [
    {
     "data": {
      "text/html": [
       "<div>\n",
       "<table border=\"1\" class=\"dataframe\">\n",
       "  <thead>\n",
       "    <tr style=\"text-align: right;\">\n",
       "      <th></th>\n",
       "      <th>id</th>\n",
       "      <th>name</th>\n",
       "      <th>addr</th>\n",
       "      <th>city</th>\n",
       "      <th>phone</th>\n",
       "      <th>type</th>\n",
       "      <th>class</th>\n",
       "    </tr>\n",
       "  </thead>\n",
       "  <tbody>\n",
       "    <tr>\n",
       "      <th>0</th>\n",
       "      <td>534</td>\n",
       "      <td>'arnie morton\\'s of chicago'</td>\n",
       "      <td>'435 s. la cienega blv.'</td>\n",
       "      <td>'los angeles'</td>\n",
       "      <td>310/246-1501</td>\n",
       "      <td>american</td>\n",
       "      <td>0</td>\n",
       "    </tr>\n",
       "    <tr>\n",
       "      <th>1</th>\n",
       "      <td>535</td>\n",
       "      <td>'art\\'s delicatessen'</td>\n",
       "      <td>'12224 ventura blvd.'</td>\n",
       "      <td>'studio city'</td>\n",
       "      <td>818/762-1221</td>\n",
       "      <td>american</td>\n",
       "      <td>1</td>\n",
       "    </tr>\n",
       "    <tr>\n",
       "      <th>2</th>\n",
       "      <td>536</td>\n",
       "      <td>'hotel bel-air'</td>\n",
       "      <td>'701 stone canyon rd.'</td>\n",
       "      <td>'bel air'</td>\n",
       "      <td>310/472-1211</td>\n",
       "      <td>californian</td>\n",
       "      <td>2</td>\n",
       "    </tr>\n",
       "    <tr>\n",
       "      <th>3</th>\n",
       "      <td>537</td>\n",
       "      <td>'cafe bizou'</td>\n",
       "      <td>'14016 ventura blvd.'</td>\n",
       "      <td>'sherman oaks'</td>\n",
       "      <td>818/788-3536</td>\n",
       "      <td>french</td>\n",
       "      <td>3</td>\n",
       "    </tr>\n",
       "    <tr>\n",
       "      <th>4</th>\n",
       "      <td>538</td>\n",
       "      <td>campanile</td>\n",
       "      <td>'624 s. la brea ave.'</td>\n",
       "      <td>'los angeles'</td>\n",
       "      <td>213/938-1447</td>\n",
       "      <td>american</td>\n",
       "      <td>4</td>\n",
       "    </tr>\n",
       "  </tbody>\n",
       "</table>\n",
       "</div>"
      ],
      "text/plain": [
       "    id                          name                      addr  \\\n",
       "0  534  'arnie morton\\'s of chicago'  '435 s. la cienega blv.'   \n",
       "1  535         'art\\'s delicatessen'     '12224 ventura blvd.'   \n",
       "2  536               'hotel bel-air'    '701 stone canyon rd.'   \n",
       "3  537                  'cafe bizou'     '14016 ventura blvd.'   \n",
       "4  538                     campanile     '624 s. la brea ave.'   \n",
       "\n",
       "             city         phone         type  class  \n",
       "0   'los angeles'  310/246-1501     american      0  \n",
       "1   'studio city'  818/762-1221     american      1  \n",
       "2       'bel air'  310/472-1211  californian      2  \n",
       "3  'sherman oaks'  818/788-3536       french      3  \n",
       "4   'los angeles'  213/938-1447     american      4  "
      ]
     },
     "execution_count": 5,
     "metadata": {},
     "output_type": "execute_result"
    }
   ],
   "source": [
    "ldf.head()"
   ]
  },
  {
   "cell_type": "code",
   "execution_count": 6,
   "metadata": {
    "collapsed": false
   },
   "outputs": [
    {
     "data": {
      "text/html": [
       "<div>\n",
       "<table border=\"1\" class=\"dataframe\">\n",
       "  <thead>\n",
       "    <tr style=\"text-align: right;\">\n",
       "      <th></th>\n",
       "      <th>id</th>\n",
       "      <th>name</th>\n",
       "      <th>addr</th>\n",
       "      <th>city</th>\n",
       "      <th>phone</th>\n",
       "      <th>type</th>\n",
       "      <th>class</th>\n",
       "    </tr>\n",
       "  </thead>\n",
       "  <tbody>\n",
       "    <tr>\n",
       "      <th>0</th>\n",
       "      <td>1</td>\n",
       "      <td>'apple pan  the'</td>\n",
       "      <td>'10801 w. pico blvd.'</td>\n",
       "      <td>'west la'</td>\n",
       "      <td>310-475-3585</td>\n",
       "      <td>american</td>\n",
       "      <td>534</td>\n",
       "    </tr>\n",
       "    <tr>\n",
       "      <th>1</th>\n",
       "      <td>2</td>\n",
       "      <td>'asahi ramen'</td>\n",
       "      <td>'2027 sawtelle blvd.'</td>\n",
       "      <td>'west la'</td>\n",
       "      <td>310-479-2231</td>\n",
       "      <td>'noodle shops'</td>\n",
       "      <td>535</td>\n",
       "    </tr>\n",
       "    <tr>\n",
       "      <th>2</th>\n",
       "      <td>3</td>\n",
       "      <td>'baja fresh'</td>\n",
       "      <td>'3345 kimber dr.'</td>\n",
       "      <td>'westlake village'</td>\n",
       "      <td>805-498-4049</td>\n",
       "      <td>mexican</td>\n",
       "      <td>536</td>\n",
       "    </tr>\n",
       "    <tr>\n",
       "      <th>3</th>\n",
       "      <td>4</td>\n",
       "      <td>'belvedere  the'</td>\n",
       "      <td>'9882 little santa monica blvd.'</td>\n",
       "      <td>'beverly hills'</td>\n",
       "      <td>310-788-2306</td>\n",
       "      <td>'pacific new wave'</td>\n",
       "      <td>537</td>\n",
       "    </tr>\n",
       "    <tr>\n",
       "      <th>4</th>\n",
       "      <td>5</td>\n",
       "      <td>'benita\\'s frites'</td>\n",
       "      <td>'1433 third st. promenade'</td>\n",
       "      <td>'santa monica'</td>\n",
       "      <td>310-458-2889</td>\n",
       "      <td>'fast food'</td>\n",
       "      <td>538</td>\n",
       "    </tr>\n",
       "  </tbody>\n",
       "</table>\n",
       "</div>"
      ],
      "text/plain": [
       "   id                name                              addr  \\\n",
       "0   1    'apple pan  the'             '10801 w. pico blvd.'   \n",
       "1   2       'asahi ramen'             '2027 sawtelle blvd.'   \n",
       "2   3        'baja fresh'                 '3345 kimber dr.'   \n",
       "3   4    'belvedere  the'  '9882 little santa monica blvd.'   \n",
       "4   5  'benita\\'s frites'        '1433 third st. promenade'   \n",
       "\n",
       "                 city         phone                type  class  \n",
       "0           'west la'  310-475-3585            american    534  \n",
       "1           'west la'  310-479-2231      'noodle shops'    535  \n",
       "2  'westlake village'  805-498-4049             mexican    536  \n",
       "3     'beverly hills'  310-788-2306  'pacific new wave'    537  \n",
       "4      'santa monica'  310-458-2889         'fast food'    538  "
      ]
     },
     "execution_count": 6,
     "metadata": {},
     "output_type": "execute_result"
    }
   ],
   "source": [
    "rdf.head()"
   ]
  },
  {
   "cell_type": "code",
   "execution_count": 8,
   "metadata": {
    "collapsed": false
   },
   "outputs": [],
   "source": [
    "ldf['match_col']=ldf['name']+ ' ' +ldf['addr']+ ' '+ldf['city']+' '+ldf['phone']+' '+ldf['type']+' '+ldf['class'].astype(str)\n",
    "rdf['match_col']=rdf['name']+ ' ' +rdf['addr']+ ' '+rdf['city']+' '+rdf['phone']+' '+rdf['type']+' '+rdf['class'].astype(str)"
   ]
  },
  {
   "cell_type": "code",
   "execution_count": 4,
   "metadata": {
    "collapsed": true
   },
   "outputs": [],
   "source": [
    "import re\n",
    "#ldf['cln_title'] = ldf['title'].apply(lambda r: re.sub(r'[^\\w\\s]',' ',str(r).lower()))\n",
    "#rdf['cln_title'] = rdf['title'].apply(lambda r: re.sub(r'[^\\w\\s]',' ',str(r).lower()))\n",
    "l=[]\n",
    "for idx, row in ldf.iterrows():\n",
    "    s=re.sub(r'[^\\w\\s]',' ',str(row['title']).lower())\n",
    "    if pd.notnull(row['authors']):\n",
    "        s += re.sub(r'[^\\w\\s]',' ',str(row['authors']).lower())\n",
    "    l.append(s)\n",
    "r=[]\n",
    "for idx, row in rdf.iterrows():\n",
    "    s=re.sub(r'[^\\w\\s]',' ',str(row['title']).lower())\n",
    "    if pd.notnull(row['authors']):\n",
    "        s += re.sub(r'[^\\w\\s]',' ',str(row['authors']).lower())\n",
    "    r.append(s)\n",
    "ldf['cln_title'] = l\n",
    "rdf['cln_title'] = r"
   ]
  },
  {
   "cell_type": "code",
   "execution_count": 9,
   "metadata": {
    "collapsed": true
   },
   "outputs": [],
   "source": [
    "seed=pd.read_csv('/scratch/resseed.csv')"
   ]
  },
  {
   "cell_type": "code",
   "execution_count": 10,
   "metadata": {
    "collapsed": false
   },
   "outputs": [
    {
     "name": "stderr",
     "output_type": "stream",
     "text": [
      "0%                          100%\n",
      "[##############################] | ETA: 00:00:00\n",
      "Total time elapsed: 00:00:00\n"
     ]
    }
   ],
   "source": [
    "c=sample_pairs(ldf,rdf,'id','id','match_col','match_col',1000,20,seed)"
   ]
  },
  {
   "cell_type": "code",
   "execution_count": 11,
   "metadata": {
    "collapsed": false
   },
   "outputs": [
    {
     "data": {
      "text/plain": [
       "1004"
      ]
     },
     "execution_count": 11,
     "metadata": {},
     "output_type": "execute_result"
    }
   ],
   "source": [
    "len(c)"
   ]
  },
  {
   "cell_type": "code",
   "execution_count": 12,
   "metadata": {
    "collapsed": false
   },
   "outputs": [
    {
     "data": {
      "text/plain": [
       "19"
      ]
     },
     "execution_count": 12,
     "metadata": {},
     "output_type": "execute_result"
    }
   ],
   "source": [
    "labeled_c = label_table_using_gold(c, 'l_id', 'r_id', '/scratch/resgold.csv')\n",
    "sum(labeled_c['label'])"
   ]
  },
  {
   "cell_type": "code",
   "execution_count": 15,
   "metadata": {
    "collapsed": false
   },
   "outputs": [
    {
     "data": {
      "text/html": [
       "<div>\n",
       "<table border=\"1\" class=\"dataframe\">\n",
       "  <thead>\n",
       "    <tr style=\"text-align: right;\">\n",
       "      <th></th>\n",
       "      <th>sim_measure_type</th>\n",
       "      <th>tokenizer</th>\n",
       "      <th>sim_function</th>\n",
       "    </tr>\n",
       "    <tr>\n",
       "      <th>feature_name</th>\n",
       "      <th></th>\n",
       "      <th></th>\n",
       "      <th></th>\n",
       "    </tr>\n",
       "  </thead>\n",
       "  <tbody>\n",
       "    <tr>\n",
       "      <th>jaccard_qg3</th>\n",
       "      <td>JACCARD</td>\n",
       "      <td>&lt;py_stringmatching.tokenizer.qgram_tokenizer.QgramTokenizer object at 0x7f138ef35550&gt;</td>\n",
       "      <td>&lt;bound method Jaccard.get_raw_score of &lt;py_stringmatching.similarity_measure.jaccard.Jaccard obj...</td>\n",
       "    </tr>\n",
       "    <tr>\n",
       "      <th>jaccard_ws</th>\n",
       "      <td>JACCARD</td>\n",
       "      <td>&lt;py_stringmatching.tokenizer.whitespace_tokenizer.WhitespaceTokenizer object at 0x7f138ef35610&gt;</td>\n",
       "      <td>&lt;bound method Jaccard.get_raw_score of &lt;py_stringmatching.similarity_measure.jaccard.Jaccard obj...</td>\n",
       "    </tr>\n",
       "    <tr>\n",
       "      <th>jaccard_qg2</th>\n",
       "      <td>JACCARD</td>\n",
       "      <td>&lt;py_stringmatching.tokenizer.qgram_tokenizer.QgramTokenizer object at 0x7f138ef35650&gt;</td>\n",
       "      <td>&lt;bound method Jaccard.get_raw_score of &lt;py_stringmatching.similarity_measure.jaccard.Jaccard obj...</td>\n",
       "    </tr>\n",
       "    <tr>\n",
       "      <th>cosine_qg3</th>\n",
       "      <td>COSINE</td>\n",
       "      <td>&lt;py_stringmatching.tokenizer.qgram_tokenizer.QgramTokenizer object at 0x7f138ef35550&gt;</td>\n",
       "      <td>&lt;bound method Cosine.get_raw_score of &lt;py_stringmatching.similarity_measure.cosine.Cosine object...</td>\n",
       "    </tr>\n",
       "    <tr>\n",
       "      <th>cosine_ws</th>\n",
       "      <td>COSINE</td>\n",
       "      <td>&lt;py_stringmatching.tokenizer.whitespace_tokenizer.WhitespaceTokenizer object at 0x7f138ef35610&gt;</td>\n",
       "      <td>&lt;bound method Cosine.get_raw_score of &lt;py_stringmatching.similarity_measure.cosine.Cosine object...</td>\n",
       "    </tr>\n",
       "    <tr>\n",
       "      <th>cosine_qg2</th>\n",
       "      <td>COSINE</td>\n",
       "      <td>&lt;py_stringmatching.tokenizer.qgram_tokenizer.QgramTokenizer object at 0x7f138ef35650&gt;</td>\n",
       "      <td>&lt;bound method Cosine.get_raw_score of &lt;py_stringmatching.similarity_measure.cosine.Cosine object...</td>\n",
       "    </tr>\n",
       "    <tr>\n",
       "      <th>dice_qg3</th>\n",
       "      <td>DICE</td>\n",
       "      <td>&lt;py_stringmatching.tokenizer.qgram_tokenizer.QgramTokenizer object at 0x7f138ef35550&gt;</td>\n",
       "      <td>&lt;bound method Dice.get_raw_score of &lt;py_stringmatching.similarity_measure.dice.Dice object at 0x...</td>\n",
       "    </tr>\n",
       "    <tr>\n",
       "      <th>dice_ws</th>\n",
       "      <td>DICE</td>\n",
       "      <td>&lt;py_stringmatching.tokenizer.whitespace_tokenizer.WhitespaceTokenizer object at 0x7f138ef35610&gt;</td>\n",
       "      <td>&lt;bound method Dice.get_raw_score of &lt;py_stringmatching.similarity_measure.dice.Dice object at 0x...</td>\n",
       "    </tr>\n",
       "    <tr>\n",
       "      <th>dice_qg2</th>\n",
       "      <td>DICE</td>\n",
       "      <td>&lt;py_stringmatching.tokenizer.qgram_tokenizer.QgramTokenizer object at 0x7f138ef35650&gt;</td>\n",
       "      <td>&lt;bound method Dice.get_raw_score of &lt;py_stringmatching.similarity_measure.dice.Dice object at 0x...</td>\n",
       "    </tr>\n",
       "    <tr>\n",
       "      <th>overlap_coefficient_qg3</th>\n",
       "      <td>OVERLAP_COEFFICIENT</td>\n",
       "      <td>&lt;py_stringmatching.tokenizer.qgram_tokenizer.QgramTokenizer object at 0x7f138ef35550&gt;</td>\n",
       "      <td>&lt;bound method OverlapCoefficient.get_raw_score of &lt;py_stringmatching.similarity_measure.overlap_...</td>\n",
       "    </tr>\n",
       "    <tr>\n",
       "      <th>overlap_coefficient_ws</th>\n",
       "      <td>OVERLAP_COEFFICIENT</td>\n",
       "      <td>&lt;py_stringmatching.tokenizer.whitespace_tokenizer.WhitespaceTokenizer object at 0x7f138ef35610&gt;</td>\n",
       "      <td>&lt;bound method OverlapCoefficient.get_raw_score of &lt;py_stringmatching.similarity_measure.overlap_...</td>\n",
       "    </tr>\n",
       "    <tr>\n",
       "      <th>overlap_coefficient_qg2</th>\n",
       "      <td>OVERLAP_COEFFICIENT</td>\n",
       "      <td>&lt;py_stringmatching.tokenizer.qgram_tokenizer.QgramTokenizer object at 0x7f138ef35650&gt;</td>\n",
       "      <td>&lt;bound method OverlapCoefficient.get_raw_score of &lt;py_stringmatching.similarity_measure.overlap_...</td>\n",
       "    </tr>\n",
       "  </tbody>\n",
       "</table>\n",
       "</div>"
      ],
      "text/plain": [
       "                            sim_measure_type  \\\n",
       "feature_name                                   \n",
       "jaccard_qg3                          JACCARD   \n",
       "jaccard_ws                           JACCARD   \n",
       "jaccard_qg2                          JACCARD   \n",
       "cosine_qg3                            COSINE   \n",
       "cosine_ws                             COSINE   \n",
       "cosine_qg2                            COSINE   \n",
       "dice_qg3                                DICE   \n",
       "dice_ws                                 DICE   \n",
       "dice_qg2                                DICE   \n",
       "overlap_coefficient_qg3  OVERLAP_COEFFICIENT   \n",
       "overlap_coefficient_ws   OVERLAP_COEFFICIENT   \n",
       "overlap_coefficient_qg2  OVERLAP_COEFFICIENT   \n",
       "\n",
       "                                                                                                               tokenizer  \\\n",
       "feature_name                                                                                                               \n",
       "jaccard_qg3                        <py_stringmatching.tokenizer.qgram_tokenizer.QgramTokenizer object at 0x7f138ef35550>   \n",
       "jaccard_ws               <py_stringmatching.tokenizer.whitespace_tokenizer.WhitespaceTokenizer object at 0x7f138ef35610>   \n",
       "jaccard_qg2                        <py_stringmatching.tokenizer.qgram_tokenizer.QgramTokenizer object at 0x7f138ef35650>   \n",
       "cosine_qg3                         <py_stringmatching.tokenizer.qgram_tokenizer.QgramTokenizer object at 0x7f138ef35550>   \n",
       "cosine_ws                <py_stringmatching.tokenizer.whitespace_tokenizer.WhitespaceTokenizer object at 0x7f138ef35610>   \n",
       "cosine_qg2                         <py_stringmatching.tokenizer.qgram_tokenizer.QgramTokenizer object at 0x7f138ef35650>   \n",
       "dice_qg3                           <py_stringmatching.tokenizer.qgram_tokenizer.QgramTokenizer object at 0x7f138ef35550>   \n",
       "dice_ws                  <py_stringmatching.tokenizer.whitespace_tokenizer.WhitespaceTokenizer object at 0x7f138ef35610>   \n",
       "dice_qg2                           <py_stringmatching.tokenizer.qgram_tokenizer.QgramTokenizer object at 0x7f138ef35650>   \n",
       "overlap_coefficient_qg3            <py_stringmatching.tokenizer.qgram_tokenizer.QgramTokenizer object at 0x7f138ef35550>   \n",
       "overlap_coefficient_ws   <py_stringmatching.tokenizer.whitespace_tokenizer.WhitespaceTokenizer object at 0x7f138ef35610>   \n",
       "overlap_coefficient_qg2            <py_stringmatching.tokenizer.qgram_tokenizer.QgramTokenizer object at 0x7f138ef35650>   \n",
       "\n",
       "                                                                                                                sim_function  \n",
       "feature_name                                                                                                                  \n",
       "jaccard_qg3              <bound method Jaccard.get_raw_score of <py_stringmatching.similarity_measure.jaccard.Jaccard obj...  \n",
       "jaccard_ws               <bound method Jaccard.get_raw_score of <py_stringmatching.similarity_measure.jaccard.Jaccard obj...  \n",
       "jaccard_qg2              <bound method Jaccard.get_raw_score of <py_stringmatching.similarity_measure.jaccard.Jaccard obj...  \n",
       "cosine_qg3               <bound method Cosine.get_raw_score of <py_stringmatching.similarity_measure.cosine.Cosine object...  \n",
       "cosine_ws                <bound method Cosine.get_raw_score of <py_stringmatching.similarity_measure.cosine.Cosine object...  \n",
       "cosine_qg2               <bound method Cosine.get_raw_score of <py_stringmatching.similarity_measure.cosine.Cosine object...  \n",
       "dice_qg3                 <bound method Dice.get_raw_score of <py_stringmatching.similarity_measure.dice.Dice object at 0x...  \n",
       "dice_ws                  <bound method Dice.get_raw_score of <py_stringmatching.similarity_measure.dice.Dice object at 0x...  \n",
       "dice_qg2                 <bound method Dice.get_raw_score of <py_stringmatching.similarity_measure.dice.Dice object at 0x...  \n",
       "overlap_coefficient_qg3  <bound method OverlapCoefficient.get_raw_score of <py_stringmatching.similarity_measure.overlap_...  \n",
       "overlap_coefficient_ws   <bound method OverlapCoefficient.get_raw_score of <py_stringmatching.similarity_measure.overlap_...  \n",
       "overlap_coefficient_qg2  <bound method OverlapCoefficient.get_raw_score of <py_stringmatching.similarity_measure.overlap_...  "
      ]
     },
     "execution_count": 15,
     "metadata": {},
     "output_type": "execute_result"
    }
   ],
   "source": [
    "ft=get_features(['JACCARD','COSINE','DICE','OVERLAP_COEFFICIENT'])\n",
    "ft"
   ]
  },
  {
   "cell_type": "code",
   "execution_count": 16,
   "metadata": {
    "collapsed": false
   },
   "outputs": [
    {
     "name": "stderr",
     "output_type": "stream",
     "text": [
      "0%                          100%\n",
      "[                              ]\r",
      "[#                             ] | ETA: 00:00:01\r",
      "[##                            ] | ETA: 00:00:01\r",
      "[###                           ] | ETA: 00:00:00\r",
      "[####                          ] | ETA: 00:00:00\r",
      "[#####                         ] | ETA: 00:00:00\r",
      "[######                        ] | ETA: 00:00:00\r",
      "[#######                       ] | ETA: 00:00:00\r",
      "[########                      ] | ETA: 00:00:00\r",
      "[#########                     ] | ETA: 00:00:00\r",
      "[##########                    ] | ETA: 00:00:00\r",
      "[###########                   ] | ETA: 00:00:00\r",
      "[############                  ] | ETA: 00:00:00\r",
      "[#############                 ] | ETA: 00:00:00\r",
      "[##############                ] | ETA: 00:00:00\r",
      "[###############               ] | ETA: 00:00:00\r",
      "[################              ] | ETA: 00:00:00\r",
      "[#################             ] | ETA: 00:00:00\r",
      "[##################            ] | ETA: 00:00:00\r",
      "[###################           ] | ETA: 00:00:00\r",
      "[####################          ] | ETA: 00:00:00\r",
      "[#####################         ] | ETA: 00:00:00\r",
      "[######################        ] | ETA: 00:00:00\r",
      "[#######################       ] | ETA: 00:00:00\r",
      "[########################      ] | ETA: 00:00:00\r",
      "[#########################     ] | ETA: 00:00:00\r",
      "[##########################    ] | ETA: 00:00:00\r",
      "[###########################   ] | ETA: 00:00:00\r",
      "[############################  ] | ETA: 00:00:00\r",
      "[############################# ] | ETA: 00:00:00\r",
      "[##############################] | ETA: 00:00:00\r",
      "[##############################] | ETA: 00:00:00\n",
      "Total time elapsed: 00:00:00\n"
     ]
    }
   ],
   "source": [
    "#ft.ix['jaccard_ws']['tokenizer'] = qg3\n",
    "fvs = extract_feature_vecs(c, 'l_id','r_id',ldf,rdf,'id','id','match_col','match_col',ft,n_jobs=4)"
   ]
  },
  {
   "cell_type": "code",
   "execution_count": 17,
   "metadata": {
    "collapsed": false
   },
   "outputs": [
    {
     "data": {
      "text/plain": [
       "1004"
      ]
     },
     "execution_count": 17,
     "metadata": {},
     "output_type": "execute_result"
    }
   ],
   "source": [
    "len(fvs)"
   ]
  },
  {
   "cell_type": "code",
   "execution_count": 18,
   "metadata": {
    "collapsed": true
   },
   "outputs": [],
   "source": [
    "from sklearn.ensemble import RandomForestClassifier\n",
    "lr=RandomForestClassifier()\n",
    "al=ActiveLearner(lr,20,20,'/scratch/resgold.csv',seed)"
   ]
  },
  {
   "cell_type": "code",
   "execution_count": 19,
   "metadata": {
    "collapsed": false
   },
   "outputs": [
    {
     "name": "stdout",
     "output_type": "stream",
     "text": [
      "     l_id r_id  jaccard_qg3  jaccard_ws  jaccard_qg2  cosine_qg3  cosine_ws  \\\n",
      "_id                                                                           \n",
      "1000  534  219     0.700000    0.647059     0.776596    0.823824   0.785714   \n",
      "1001  534  220     0.074830    0.000000     0.177966    0.140875   0.000000   \n",
      "1002  535  220     0.651685    0.538462     0.720000    0.792220   0.700000   \n",
      "1003  535  219     0.093168    0.043478     0.246032    0.171163   0.084515   \n",
      "\n",
      "      cosine_qg2  dice_qg3   dice_ws  dice_qg2  overlap_coefficient_qg3  \\\n",
      "_id                                                                       \n",
      "1000    0.874644  0.823529  0.785714  0.874251                 0.846154   \n",
      "1001    0.306382  0.139241  0.000000  0.302158                 0.164179   \n",
      "1002    0.841493  0.789116  0.700000  0.837209                 0.865672   \n",
      "1003    0.396719  0.170455  0.083333  0.394904                 0.187500   \n",
      "\n",
      "      overlap_coefficient_ws  overlap_coefficient_qg2  \n",
      "_id                                                    \n",
      "1000                0.785714                 0.901235  \n",
      "1001                0.000000                 0.362069  \n",
      "1002                0.700000                 0.931034  \n",
      "1003                0.100000                 0.436620  \n",
      "     l_id r_id  jaccard_qg3  jaccard_ws  jaccard_qg2  cosine_qg3  cosine_ws  \\\n",
      "_id                                                                           \n",
      "1000  534  219     0.700000    0.647059     0.776596    0.823824   0.785714   \n",
      "1001  534  220     0.074830    0.000000     0.177966    0.140875   0.000000   \n",
      "1002  535  220     0.651685    0.538462     0.720000    0.792220   0.700000   \n",
      "1003  535  219     0.093168    0.043478     0.246032    0.171163   0.084515   \n",
      "\n",
      "      cosine_qg2  dice_qg3   dice_ws  dice_qg2  overlap_coefficient_qg3  \\\n",
      "_id                                                                       \n",
      "1000    0.874644  0.823529  0.785714  0.874251                 0.846154   \n",
      "1001    0.306382  0.139241  0.000000  0.302158                 0.164179   \n",
      "1002    0.841493  0.789116  0.700000  0.837209                 0.865672   \n",
      "1003    0.396719  0.170455  0.083333  0.394904                 0.187500   \n",
      "\n",
      "      overlap_coefficient_ws  overlap_coefficient_qg2  label  \n",
      "_id                                                           \n",
      "1000                0.785714                 0.901235      1  \n",
      "1001                0.000000                 0.362069      0  \n",
      "1002                0.700000                 0.931034      1  \n",
      "1003                0.100000                 0.436620      0  \n",
      "Selecting next batch...\n",
      "computing entropy\n",
      "sorting\n",
      "sampling\n",
      "[0.69314718055994529, 0.69314718055994529, 0.69314718055994529, 0.69314718055994529, 0.67301166700925652, 0.6108643020548935, 0.6108643020548935, 0.6108643020548935, 0.6108643020548935, 0.6108643020548935, 0.6108643020548935, 0.6108643020548935, 0.6108643020548935, 0.6108643020548935, 0.6108643020548935, 0.6108643020548935, 0.6108643020548935, 0.6108643020548935, 0.6108643020548935, 0.50040242353818787, 0.50040242353818787, 0.50040242353818787, 0.50040242353818787, 0.50040242353818787, 0.50040242353818787, 0.50040242353818787, 0.50040242353818787, 0.50040242353818787, 0.50040242353818787, 0.50040242353818787, 0.50040242353818787, 0.50040242353818787, 0.50040242353818787, 0.50040242353818787, 0.50040242353818787, 0.50040242353818787, 0.50040242353818787, 0.50040242353818787, 0.50040242353818787, 0.50040242353818787, 0.50040242353818787, 0.50040242353818787, 0.50040242353818787, 0.50040242353818787, 0.50040242353818787, 0.50040242353818787, 0.3250829733914482, 0.3250829733914482, 0.3250829733914482, 0.3250829733914482, 0.3250829733914482, 0.3250829733914482, 0.3250829733914482, 0.3250829733914482, 0.3250829733914482, 0.3250829733914482, 0.3250829733914482, 0.3250829733914482, 0.3250829733914482, 0.3250829733914482, 0.3250829733914482, 0.3250829733914482, 0.3250829733914482, 0.3250829733914482, 0.3250829733914482, 0.3250829733914482, 0.3250829733914482, 0.3250829733914482, 0.3250829733914482, 0.3250829733914482, 0.3250829733914482, 0.3250829733914482, 0.3250829733914482, 0.3250829733914482, 0.3250829733914482, 0.3250829733914482, 0.3250829733914482, 0.3250829733914482, 0.3250829733914482, 0.3250829733914482, 0.3250829733914482, 0.3250829733914482, 0.3250829733914482, 0.3250829733914482, 0.3250829733914482, 0.3250829733914482, 0.3250829733914482, 0.3250829733914482, 0.3250829733914482, 0.3250829733914482, 0.3250829733914482, 0.3250829733914482, 0.3250829733914482, 0.3250829733914482, 0.3250829733914482, 0.3250829733914482, 0.3250829733914482, 0.3250829733914482, 0.3250829733914482, 0.3250829733914482]\n",
      "Collecting labels...\n",
      "Iteration : 1\n",
      "Selecting next batch...\n",
      "computing entropy\n",
      "sorting\n",
      "sampling\n",
      "Collecting labels...\n",
      "Iteration : 2\n",
      "Selecting next batch...\n",
      "computing entropy\n",
      "sorting\n",
      "sampling\n",
      "Collecting labels...\n",
      "Iteration : 3\n",
      "Selecting next batch...\n",
      "computing entropy\n",
      "sorting\n",
      "sampling\n",
      "Collecting labels...\n",
      "Iteration : 4\n",
      "Selecting next batch...\n",
      "computing entropy\n",
      "sorting\n",
      "sampling\n",
      "Collecting labels...\n",
      "Iteration : 5\n",
      "Selecting next batch...\n",
      "computing entropy\n",
      "sorting\n",
      "sampling\n",
      "Collecting labels...\n",
      "Iteration : 6\n",
      "Selecting next batch...\n",
      "computing entropy\n",
      "sorting\n",
      "sampling\n",
      "Collecting labels...\n",
      "Iteration : 7\n",
      "Selecting next batch...\n",
      "computing entropy\n",
      "sorting\n",
      "sampling\n",
      "Collecting labels...\n",
      "Iteration : 8\n",
      "Selecting next batch...\n",
      "computing entropy\n",
      "sorting\n",
      "sampling\n",
      "Collecting labels...\n",
      "Iteration : 9\n",
      "Selecting next batch...\n",
      "computing entropy\n",
      "sorting\n",
      "sampling\n",
      "Collecting labels...\n",
      "Iteration : 10\n",
      "Selecting next batch...\n",
      "computing entropy\n",
      "sorting\n",
      "sampling\n",
      "Collecting labels...\n",
      "Iteration : 11\n",
      "Selecting next batch...\n",
      "computing entropy\n",
      "sorting\n",
      "sampling\n",
      "Collecting labels...\n",
      "Iteration : 12\n",
      "Selecting next batch...\n",
      "computing entropy\n",
      "sorting\n",
      "sampling\n",
      "Collecting labels...\n",
      "Iteration : 13\n",
      "Selecting next batch...\n",
      "computing entropy\n",
      "sorting\n",
      "sampling\n",
      "Collecting labels...\n",
      "Iteration : 14\n",
      "Selecting next batch...\n",
      "computing entropy\n",
      "sorting\n",
      "sampling\n",
      "Collecting labels...\n",
      "Iteration : 15\n",
      "Selecting next batch...\n",
      "computing entropy\n",
      "sorting\n",
      "sampling\n",
      "Collecting labels...\n",
      "Iteration : 16\n",
      "Selecting next batch...\n",
      "computing entropy\n",
      "sorting\n",
      "sampling\n",
      "Collecting labels...\n",
      "Iteration : 17\n",
      "Selecting next batch...\n",
      "computing entropy\n",
      "sorting\n",
      "sampling\n",
      "Collecting labels...\n",
      "Iteration : 18\n",
      "Selecting next batch...\n",
      "computing entropy\n",
      "sorting\n",
      "sampling\n",
      "Collecting labels...\n",
      "Iteration : 19\n",
      "Selecting next batch...\n",
      "computing entropy\n",
      "sorting\n",
      "sampling\n",
      "Collecting labels...\n",
      "Iteration : 20\n"
     ]
    },
    {
     "name": "stderr",
     "output_type": "stream",
     "text": [
      "py_stringsimjoin/active_learner/active_learner.py:121: SettingWithCopyWarning: \n",
      "A value is trying to be set on a copy of a slice from a DataFrame.\n",
      "Try using .loc[row_indexer,col_indexer] = value instead\n",
      "\n",
      "See the caveats in the documentation: http://pandas.pydata.org/pandas-docs/stable/indexing.html#indexing-view-versus-copy\n",
      "  to_be_labeled_pairs['label'] = labels\n"
     ]
    }
   ],
   "source": [
    "lp = al.learn(fvs, '_id', 'l_id','r_id')"
   ]
  },
  {
   "cell_type": "code",
   "execution_count": 38,
   "metadata": {
    "collapsed": false
   },
   "outputs": [
    {
     "data": {
      "text/plain": [
       "10"
      ]
     },
     "execution_count": 38,
     "metadata": {},
     "output_type": "execute_result"
    }
   ],
   "source": [
    "len(lr.estimators_"
   ]
  },
  {
   "cell_type": "code",
   "execution_count": 20,
   "metadata": {
    "collapsed": false
   },
   "outputs": [
    {
     "data": {
      "text/plain": [
       "19.0"
      ]
     },
     "execution_count": 20,
     "metadata": {},
     "output_type": "execute_result"
    }
   ],
   "source": [
    "lp.reset_index(level=0, inplace=True)\n",
    "sum(lp['label'])"
   ]
  },
  {
   "cell_type": "code",
   "execution_count": 21,
   "metadata": {
    "collapsed": false
   },
   "outputs": [
    {
     "data": {
      "text/html": [
       "<div>\n",
       "<table border=\"1\" class=\"dataframe\">\n",
       "  <thead>\n",
       "    <tr style=\"text-align: right;\">\n",
       "      <th></th>\n",
       "      <th>sim_measure_type</th>\n",
       "      <th>tokenizer</th>\n",
       "      <th>sim_function</th>\n",
       "    </tr>\n",
       "    <tr>\n",
       "      <th>feature_name</th>\n",
       "      <th></th>\n",
       "      <th></th>\n",
       "      <th></th>\n",
       "    </tr>\n",
       "  </thead>\n",
       "  <tbody>\n",
       "    <tr>\n",
       "      <th>jaccard_qg3</th>\n",
       "      <td>JACCARD</td>\n",
       "      <td>&lt;py_stringmatching.tokenizer.qgram_tokenizer.QgramTokenizer object at 0x7f138cd87690&gt;</td>\n",
       "      <td>&lt;bound method Jaccard.get_raw_score of &lt;py_stringmatching.similarity_measure.jaccard.Jaccard obj...</td>\n",
       "    </tr>\n",
       "    <tr>\n",
       "      <th>jaccard_ws</th>\n",
       "      <td>JACCARD</td>\n",
       "      <td>&lt;py_stringmatching.tokenizer.whitespace_tokenizer.WhitespaceTokenizer object at 0x7f138cd87490&gt;</td>\n",
       "      <td>&lt;bound method Jaccard.get_raw_score of &lt;py_stringmatching.similarity_measure.jaccard.Jaccard obj...</td>\n",
       "    </tr>\n",
       "    <tr>\n",
       "      <th>jaccard_qg2</th>\n",
       "      <td>JACCARD</td>\n",
       "      <td>&lt;py_stringmatching.tokenizer.qgram_tokenizer.QgramTokenizer object at 0x7f138cd87750&gt;</td>\n",
       "      <td>&lt;bound method Jaccard.get_raw_score of &lt;py_stringmatching.similarity_measure.jaccard.Jaccard obj...</td>\n",
       "    </tr>\n",
       "    <tr>\n",
       "      <th>cosine_qg3</th>\n",
       "      <td>COSINE</td>\n",
       "      <td>&lt;py_stringmatching.tokenizer.qgram_tokenizer.QgramTokenizer object at 0x7f138cd87690&gt;</td>\n",
       "      <td>&lt;bound method Cosine.get_raw_score of &lt;py_stringmatching.similarity_measure.cosine.Cosine object...</td>\n",
       "    </tr>\n",
       "    <tr>\n",
       "      <th>cosine_ws</th>\n",
       "      <td>COSINE</td>\n",
       "      <td>&lt;py_stringmatching.tokenizer.whitespace_tokenizer.WhitespaceTokenizer object at 0x7f138cd87490&gt;</td>\n",
       "      <td>&lt;bound method Cosine.get_raw_score of &lt;py_stringmatching.similarity_measure.cosine.Cosine object...</td>\n",
       "    </tr>\n",
       "    <tr>\n",
       "      <th>cosine_qg2</th>\n",
       "      <td>COSINE</td>\n",
       "      <td>&lt;py_stringmatching.tokenizer.qgram_tokenizer.QgramTokenizer object at 0x7f138cd87750&gt;</td>\n",
       "      <td>&lt;bound method Cosine.get_raw_score of &lt;py_stringmatching.similarity_measure.cosine.Cosine object...</td>\n",
       "    </tr>\n",
       "    <tr>\n",
       "      <th>dice_qg3</th>\n",
       "      <td>DICE</td>\n",
       "      <td>&lt;py_stringmatching.tokenizer.qgram_tokenizer.QgramTokenizer object at 0x7f138cd87690&gt;</td>\n",
       "      <td>&lt;bound method Dice.get_raw_score of &lt;py_stringmatching.similarity_measure.dice.Dice object at 0x...</td>\n",
       "    </tr>\n",
       "    <tr>\n",
       "      <th>dice_ws</th>\n",
       "      <td>DICE</td>\n",
       "      <td>&lt;py_stringmatching.tokenizer.whitespace_tokenizer.WhitespaceTokenizer object at 0x7f138cd87490&gt;</td>\n",
       "      <td>&lt;bound method Dice.get_raw_score of &lt;py_stringmatching.similarity_measure.dice.Dice object at 0x...</td>\n",
       "    </tr>\n",
       "    <tr>\n",
       "      <th>dice_qg2</th>\n",
       "      <td>DICE</td>\n",
       "      <td>&lt;py_stringmatching.tokenizer.qgram_tokenizer.QgramTokenizer object at 0x7f138cd87750&gt;</td>\n",
       "      <td>&lt;bound method Dice.get_raw_score of &lt;py_stringmatching.similarity_measure.dice.Dice object at 0x...</td>\n",
       "    </tr>\n",
       "    <tr>\n",
       "      <th>overlap_coefficient_qg3</th>\n",
       "      <td>OVERLAP_COEFFICIENT</td>\n",
       "      <td>&lt;py_stringmatching.tokenizer.qgram_tokenizer.QgramTokenizer object at 0x7f138cd87690&gt;</td>\n",
       "      <td>&lt;bound method OverlapCoefficient.get_raw_score of &lt;py_stringmatching.similarity_measure.overlap_...</td>\n",
       "    </tr>\n",
       "    <tr>\n",
       "      <th>overlap_coefficient_ws</th>\n",
       "      <td>OVERLAP_COEFFICIENT</td>\n",
       "      <td>&lt;py_stringmatching.tokenizer.whitespace_tokenizer.WhitespaceTokenizer object at 0x7f138cd87490&gt;</td>\n",
       "      <td>&lt;bound method OverlapCoefficient.get_raw_score of &lt;py_stringmatching.similarity_measure.overlap_...</td>\n",
       "    </tr>\n",
       "    <tr>\n",
       "      <th>overlap_coefficient_qg2</th>\n",
       "      <td>OVERLAP_COEFFICIENT</td>\n",
       "      <td>&lt;py_stringmatching.tokenizer.qgram_tokenizer.QgramTokenizer object at 0x7f138cd87750&gt;</td>\n",
       "      <td>&lt;bound method OverlapCoefficient.get_raw_score of &lt;py_stringmatching.similarity_measure.overlap_...</td>\n",
       "    </tr>\n",
       "  </tbody>\n",
       "</table>\n",
       "</div>"
      ],
      "text/plain": [
       "                            sim_measure_type  \\\n",
       "feature_name                                   \n",
       "jaccard_qg3                          JACCARD   \n",
       "jaccard_ws                           JACCARD   \n",
       "jaccard_qg2                          JACCARD   \n",
       "cosine_qg3                            COSINE   \n",
       "cosine_ws                             COSINE   \n",
       "cosine_qg2                            COSINE   \n",
       "dice_qg3                                DICE   \n",
       "dice_ws                                 DICE   \n",
       "dice_qg2                                DICE   \n",
       "overlap_coefficient_qg3  OVERLAP_COEFFICIENT   \n",
       "overlap_coefficient_ws   OVERLAP_COEFFICIENT   \n",
       "overlap_coefficient_qg2  OVERLAP_COEFFICIENT   \n",
       "\n",
       "                                                                                                               tokenizer  \\\n",
       "feature_name                                                                                                               \n",
       "jaccard_qg3                        <py_stringmatching.tokenizer.qgram_tokenizer.QgramTokenizer object at 0x7f138cd87690>   \n",
       "jaccard_ws               <py_stringmatching.tokenizer.whitespace_tokenizer.WhitespaceTokenizer object at 0x7f138cd87490>   \n",
       "jaccard_qg2                        <py_stringmatching.tokenizer.qgram_tokenizer.QgramTokenizer object at 0x7f138cd87750>   \n",
       "cosine_qg3                         <py_stringmatching.tokenizer.qgram_tokenizer.QgramTokenizer object at 0x7f138cd87690>   \n",
       "cosine_ws                <py_stringmatching.tokenizer.whitespace_tokenizer.WhitespaceTokenizer object at 0x7f138cd87490>   \n",
       "cosine_qg2                         <py_stringmatching.tokenizer.qgram_tokenizer.QgramTokenizer object at 0x7f138cd87750>   \n",
       "dice_qg3                           <py_stringmatching.tokenizer.qgram_tokenizer.QgramTokenizer object at 0x7f138cd87690>   \n",
       "dice_ws                  <py_stringmatching.tokenizer.whitespace_tokenizer.WhitespaceTokenizer object at 0x7f138cd87490>   \n",
       "dice_qg2                           <py_stringmatching.tokenizer.qgram_tokenizer.QgramTokenizer object at 0x7f138cd87750>   \n",
       "overlap_coefficient_qg3            <py_stringmatching.tokenizer.qgram_tokenizer.QgramTokenizer object at 0x7f138cd87690>   \n",
       "overlap_coefficient_ws   <py_stringmatching.tokenizer.whitespace_tokenizer.WhitespaceTokenizer object at 0x7f138cd87490>   \n",
       "overlap_coefficient_qg2            <py_stringmatching.tokenizer.qgram_tokenizer.QgramTokenizer object at 0x7f138cd87750>   \n",
       "\n",
       "                                                                                                                sim_function  \n",
       "feature_name                                                                                                                  \n",
       "jaccard_qg3              <bound method Jaccard.get_raw_score of <py_stringmatching.similarity_measure.jaccard.Jaccard obj...  \n",
       "jaccard_ws               <bound method Jaccard.get_raw_score of <py_stringmatching.similarity_measure.jaccard.Jaccard obj...  \n",
       "jaccard_qg2              <bound method Jaccard.get_raw_score of <py_stringmatching.similarity_measure.jaccard.Jaccard obj...  \n",
       "cosine_qg3               <bound method Cosine.get_raw_score of <py_stringmatching.similarity_measure.cosine.Cosine object...  \n",
       "cosine_ws                <bound method Cosine.get_raw_score of <py_stringmatching.similarity_measure.cosine.Cosine object...  \n",
       "cosine_qg2               <bound method Cosine.get_raw_score of <py_stringmatching.similarity_measure.cosine.Cosine object...  \n",
       "dice_qg3                 <bound method Dice.get_raw_score of <py_stringmatching.similarity_measure.dice.Dice object at 0x...  \n",
       "dice_ws                  <bound method Dice.get_raw_score of <py_stringmatching.similarity_measure.dice.Dice object at 0x...  \n",
       "dice_qg2                 <bound method Dice.get_raw_score of <py_stringmatching.similarity_measure.dice.Dice object at 0x...  \n",
       "overlap_coefficient_qg3  <bound method OverlapCoefficient.get_raw_score of <py_stringmatching.similarity_measure.overlap_...  \n",
       "overlap_coefficient_ws   <bound method OverlapCoefficient.get_raw_score of <py_stringmatching.similarity_measure.overlap_...  \n",
       "overlap_coefficient_qg2  <bound method OverlapCoefficient.get_raw_score of <py_stringmatching.similarity_measure.overlap_...  "
      ]
     },
     "execution_count": 21,
     "metadata": {},
     "output_type": "execute_result"
    }
   ],
   "source": [
    "ft1=get_features(['JACCARD','COSINE','DICE','OVERLAP_COEFFICIENT'])\n",
    "ft1"
   ]
  },
  {
   "cell_type": "code",
   "execution_count": 25,
   "metadata": {
    "collapsed": false
   },
   "outputs": [
    {
     "name": "stderr",
     "output_type": "stream",
     "text": [
      "0%      100%\n",
      "[          ]\r",
      "[#         ] | ETA: 00:00:00\r",
      "[##        ] | ETA: 00:00:00\r",
      "[###       ] | ETA: 00:00:00\r",
      "[####      ] | ETA: 00:00:00\r",
      "[#####     ] | ETA: 00:00:00\r",
      "[######    ] | ETA: 00:00:00\r",
      "[#######   ] | ETA: 00:00:00\r",
      "[########  ] | ETA: 00:00:00\r",
      "[######### ] | ETA: 00:00:00\r",
      "[##########] | ETA: 00:00:00\r",
      "[##########] | ETA: 00:00:00\n",
      "Total time elapsed: 00:00:00\n"
     ]
    }
   ],
   "source": [
    "reload(ssj.feature.extractfeatures)\n",
    "lp1=lp.copy()\n",
    "del lp1['jaccard_ws']\n",
    "ldf['id']=ldf['id'].astype(str)\n",
    "rdf['id']=rdf['id'].astype(str)\n",
    "fvs1 = extract_feature_vecs(lp1, 'l_id','r_id',ldf,rdf,'id','id','match_col','match_col',ft1,n_jobs=4)"
   ]
  },
  {
   "cell_type": "code",
   "execution_count": 26,
   "metadata": {
    "collapsed": false
   },
   "outputs": [
    {
     "data": {
      "text/plain": [
       "42"
      ]
     },
     "execution_count": 26,
     "metadata": {},
     "output_type": "execute_result"
    }
   ],
   "source": [
    "len(set(fvs1.index.values))"
   ]
  },
  {
   "cell_type": "code",
   "execution_count": 27,
   "metadata": {
    "collapsed": false
   },
   "outputs": [],
   "source": [
    "fvs1['label'] = lp1['label']"
   ]
  },
  {
   "cell_type": "code",
   "execution_count": 28,
   "metadata": {
    "collapsed": false,
    "scrolled": false
   },
   "outputs": [
    {
     "data": {
      "text/html": [
       "<div>\n",
       "<table border=\"1\" class=\"dataframe\">\n",
       "  <thead>\n",
       "    <tr style=\"text-align: right;\">\n",
       "      <th></th>\n",
       "      <th>Name</th>\n",
       "      <th>Num folds</th>\n",
       "      <th>Fold 1</th>\n",
       "      <th>Fold 2</th>\n",
       "      <th>Fold 3</th>\n",
       "      <th>Fold 4</th>\n",
       "      <th>Fold 5</th>\n",
       "      <th>Mean score</th>\n",
       "    </tr>\n",
       "  </thead>\n",
       "  <tbody>\n",
       "    <tr>\n",
       "      <th>0</th>\n",
       "      <td>dice_qg2</td>\n",
       "      <td>5</td>\n",
       "      <td>0.571429</td>\n",
       "      <td>0.400000</td>\n",
       "      <td>1.000000</td>\n",
       "      <td>0.800000</td>\n",
       "      <td>1.000000</td>\n",
       "      <td>0.754286</td>\n",
       "    </tr>\n",
       "    <tr>\n",
       "      <th>1</th>\n",
       "      <td>dice_qg3</td>\n",
       "      <td>5</td>\n",
       "      <td>0.666667</td>\n",
       "      <td>0.666667</td>\n",
       "      <td>1.000000</td>\n",
       "      <td>0.909091</td>\n",
       "      <td>1.000000</td>\n",
       "      <td>0.848485</td>\n",
       "    </tr>\n",
       "    <tr>\n",
       "      <th>2</th>\n",
       "      <td>cosine_qg2</td>\n",
       "      <td>5</td>\n",
       "      <td>0.571429</td>\n",
       "      <td>0.400000</td>\n",
       "      <td>1.000000</td>\n",
       "      <td>0.800000</td>\n",
       "      <td>1.000000</td>\n",
       "      <td>0.754286</td>\n",
       "    </tr>\n",
       "    <tr>\n",
       "      <th>3</th>\n",
       "      <td>cosine_qg3</td>\n",
       "      <td>5</td>\n",
       "      <td>0.800000</td>\n",
       "      <td>0.666667</td>\n",
       "      <td>1.000000</td>\n",
       "      <td>0.909091</td>\n",
       "      <td>1.000000</td>\n",
       "      <td>0.875152</td>\n",
       "    </tr>\n",
       "    <tr>\n",
       "      <th>4</th>\n",
       "      <td>overlap_coefficient_ws</td>\n",
       "      <td>5</td>\n",
       "      <td>0.800000</td>\n",
       "      <td>0.333333</td>\n",
       "      <td>1.000000</td>\n",
       "      <td>0.909091</td>\n",
       "      <td>0.750000</td>\n",
       "      <td>0.758485</td>\n",
       "    </tr>\n",
       "    <tr>\n",
       "      <th>5</th>\n",
       "      <td>jaccard_ws</td>\n",
       "      <td>5</td>\n",
       "      <td>0.800000</td>\n",
       "      <td>0.500000</td>\n",
       "      <td>0.750000</td>\n",
       "      <td>0.800000</td>\n",
       "      <td>0.333333</td>\n",
       "      <td>0.636667</td>\n",
       "    </tr>\n",
       "    <tr>\n",
       "      <th>6</th>\n",
       "      <td>jaccard_qg2</td>\n",
       "      <td>5</td>\n",
       "      <td>0.800000</td>\n",
       "      <td>1.000000</td>\n",
       "      <td>1.000000</td>\n",
       "      <td>0.909091</td>\n",
       "      <td>1.000000</td>\n",
       "      <td>0.941818</td>\n",
       "    </tr>\n",
       "    <tr>\n",
       "      <th>7</th>\n",
       "      <td>jaccard_qg3</td>\n",
       "      <td>5</td>\n",
       "      <td>1.000000</td>\n",
       "      <td>1.000000</td>\n",
       "      <td>1.000000</td>\n",
       "      <td>0.909091</td>\n",
       "      <td>1.000000</td>\n",
       "      <td>0.981818</td>\n",
       "    </tr>\n",
       "    <tr>\n",
       "      <th>8</th>\n",
       "      <td>overlap_coefficient_qg3</td>\n",
       "      <td>5</td>\n",
       "      <td>0.800000</td>\n",
       "      <td>0.666667</td>\n",
       "      <td>1.000000</td>\n",
       "      <td>0.909091</td>\n",
       "      <td>1.000000</td>\n",
       "      <td>0.875152</td>\n",
       "    </tr>\n",
       "    <tr>\n",
       "      <th>9</th>\n",
       "      <td>overlap_coefficient_qg2</td>\n",
       "      <td>5</td>\n",
       "      <td>0.800000</td>\n",
       "      <td>0.400000</td>\n",
       "      <td>1.000000</td>\n",
       "      <td>0.909091</td>\n",
       "      <td>1.000000</td>\n",
       "      <td>0.821818</td>\n",
       "    </tr>\n",
       "    <tr>\n",
       "      <th>10</th>\n",
       "      <td>dice_ws</td>\n",
       "      <td>5</td>\n",
       "      <td>0.800000</td>\n",
       "      <td>0.333333</td>\n",
       "      <td>0.888889</td>\n",
       "      <td>0.909091</td>\n",
       "      <td>0.750000</td>\n",
       "      <td>0.736263</td>\n",
       "    </tr>\n",
       "    <tr>\n",
       "      <th>11</th>\n",
       "      <td>cosine_ws</td>\n",
       "      <td>5</td>\n",
       "      <td>0.800000</td>\n",
       "      <td>0.333333</td>\n",
       "      <td>0.888889</td>\n",
       "      <td>0.909091</td>\n",
       "      <td>0.750000</td>\n",
       "      <td>0.736263</td>\n",
       "    </tr>\n",
       "  </tbody>\n",
       "</table>\n",
       "</div>"
      ],
      "text/plain": [
       "                       Name  Num folds    Fold 1    Fold 2    Fold 3  \\\n",
       "0                  dice_qg2          5  0.571429  0.400000  1.000000   \n",
       "1                  dice_qg3          5  0.666667  0.666667  1.000000   \n",
       "2                cosine_qg2          5  0.571429  0.400000  1.000000   \n",
       "3                cosine_qg3          5  0.800000  0.666667  1.000000   \n",
       "4    overlap_coefficient_ws          5  0.800000  0.333333  1.000000   \n",
       "5                jaccard_ws          5  0.800000  0.500000  0.750000   \n",
       "6               jaccard_qg2          5  0.800000  1.000000  1.000000   \n",
       "7               jaccard_qg3          5  1.000000  1.000000  1.000000   \n",
       "8   overlap_coefficient_qg3          5  0.800000  0.666667  1.000000   \n",
       "9   overlap_coefficient_qg2          5  0.800000  0.400000  1.000000   \n",
       "10                  dice_ws          5  0.800000  0.333333  0.888889   \n",
       "11                cosine_ws          5  0.800000  0.333333  0.888889   \n",
       "\n",
       "      Fold 4    Fold 5  Mean score  \n",
       "0   0.800000  1.000000    0.754286  \n",
       "1   0.909091  1.000000    0.848485  \n",
       "2   0.800000  1.000000    0.754286  \n",
       "3   0.909091  1.000000    0.875152  \n",
       "4   0.909091  0.750000    0.758485  \n",
       "5   0.800000  0.333333    0.636667  \n",
       "6   0.909091  1.000000    0.941818  \n",
       "7   0.909091  1.000000    0.981818  \n",
       "8   0.909091  1.000000    0.875152  \n",
       "9   0.909091  1.000000    0.821818  \n",
       "10  0.909091  0.750000    0.736263  \n",
       "11  0.909091  0.750000    0.736263  "
      ]
     },
     "execution_count": 28,
     "metadata": {},
     "output_type": "execute_result"
    }
   ],
   "source": [
    "from py_stringsimjoin.matcher.select_matcher import select_matcher\n",
    "reload(ssj.matcher.select_matcher)\n",
    "out=select_matcher(fvs1, 'label', ft1, metric='f1')\n",
    "out['cv_stats']"
   ]
  },
  {
   "cell_type": "code",
   "execution_count": 33,
   "metadata": {
    "collapsed": false
   },
   "outputs": [],
   "source": [
    "from py_stringsimjoin.matcher.matcher_utils import split_train_test\n",
    "splits = split_train_test(fvs1, 'label')\n",
    "P =splits['train']\n",
    "Q=splits['test']"
   ]
  },
  {
   "cell_type": "code",
   "execution_count": 34,
   "metadata": {
    "collapsed": false
   },
   "outputs": [
    {
     "data": {
      "text/plain": [
       "sklearn.linear_model.logistic.LogisticRegression"
      ]
     },
     "execution_count": 34,
     "metadata": {},
     "output_type": "execute_result"
    }
   ],
   "source": [
    "type(out['selected_matcher'])"
   ]
  },
  {
   "cell_type": "code",
   "execution_count": 35,
   "metadata": {
    "collapsed": false
   },
   "outputs": [
    {
     "name": "stdout",
     "output_type": "stream",
     "text": [
      "0.428646368158\n"
     ]
    }
   ],
   "source": [
    "lr1=LogisticRegression()\n",
    "dbg = debug_matcher(lr1, P, Q, 'jaccard_qg3', 'label', 'l_id', 'r_id', ldf, rdf, 'id', 'id')"
   ]
  },
  {
   "cell_type": "code",
   "execution_count": 37,
   "metadata": {
    "collapsed": false
   },
   "outputs": [
    {
     "data": {
      "text/html": [
       "<div>\n",
       "<table border=\"1\" class=\"dataframe\">\n",
       "  <thead>\n",
       "    <tr style=\"text-align: right;\">\n",
       "      <th></th>\n",
       "      <th>l_match_col</th>\n",
       "      <th>r_match_col</th>\n",
       "      <th>jaccard_qg3</th>\n",
       "    </tr>\n",
       "  </thead>\n",
       "  <tbody>\n",
       "    <tr>\n",
       "      <th>40</th>\n",
       "      <td>'restaurant katsu' '1972 n. hillhurst ave.' 'los angeles' 213/665-1891 asian 10</td>\n",
       "      <td>katsu '1972 hillhurst ave.' 'los feliz' 213-665-1891 japanese 10</td>\n",
       "      <td>0.390476</td>\n",
       "    </tr>\n",
       "  </tbody>\n",
       "</table>\n",
       "</div>"
      ],
      "text/plain": [
       "                                                                        l_match_col  \\\n",
       "40  'restaurant katsu' '1972 n. hillhurst ave.' 'los angeles' 213/665-1891 asian 10   \n",
       "\n",
       "                                                         r_match_col  \\\n",
       "40  katsu '1972 hillhurst ave.' 'los feliz' 213-665-1891 japanese 10   \n",
       "\n",
       "    jaccard_qg3  \n",
       "40     0.390476  "
      ]
     },
     "execution_count": 37,
     "metadata": {},
     "output_type": "execute_result"
    }
   ],
   "source": [
    "dbg['false_neg'][['l_match_col', 'r_match_col', 'jaccard_qg3']]"
   ]
  },
  {
   "cell_type": "code",
   "execution_count": 36,
   "metadata": {
    "collapsed": false
   },
   "outputs": [
    {
     "data": {
      "text/plain": [
       "{'f1': 0.9411764705882353, 'precision': 1.0, 'recall': 0.8888888888888888}"
      ]
     },
     "execution_count": 36,
     "metadata": {},
     "output_type": "execute_result"
    }
   ],
   "source": [
    "dbg['stats']"
   ]
  },
  {
   "cell_type": "code",
   "execution_count": 22,
   "metadata": {
    "collapsed": false
   },
   "outputs": [
    {
     "data": {
      "text/plain": [
       "array([[ 0.61488554]])"
      ]
     },
     "execution_count": 22,
     "metadata": {},
     "output_type": "execute_result"
    }
   ],
   "source": [
    "-lr1.intercept_/lr1.coef_"
   ]
  },
  {
   "cell_type": "code",
   "execution_count": 42,
   "metadata": {
    "collapsed": false
   },
   "outputs": [
    {
     "data": {
      "text/plain": [
       "(19, 7)"
      ]
     },
     "execution_count": 42,
     "metadata": {},
     "output_type": "execute_result"
    }
   ],
   "source": [
    "len(dbg['false_neg']), len(dbg['false_pos'])"
   ]
  },
  {
   "cell_type": "code",
   "execution_count": 29,
   "metadata": {
    "collapsed": false
   },
   "outputs": [
    {
     "data": {
      "text/plain": [
       "array([[ 0.43902888]])"
      ]
     },
     "execution_count": 29,
     "metadata": {},
     "output_type": "execute_result"
    }
   ],
   "source": [
    "lr2=LogisticRegression()\n",
    "lr2.fit(fvs1[['jaccard_qg3']].values, fvs1['label'].values)\n",
    "-lr2.intercept_/lr2.coef_"
   ]
  },
  {
   "cell_type": "code",
   "execution_count": 59,
   "metadata": {
    "collapsed": false
   },
   "outputs": [
    {
     "data": {
      "text/plain": [
       "array([[ 0.56236397]])"
      ]
     },
     "execution_count": 59,
     "metadata": {},
     "output_type": "execute_result"
    }
   ],
   "source": [
    "from sklearn.svm import LinearSVC\n",
    "lsvc = LinearSVC()\n",
    "lsvc.fit(lp[['jaccard_ws']].values, lp['label'].values)\n",
    "-lsvc.intercept_/lsvc.coef_"
   ]
  },
  {
   "cell_type": "code",
   "execution_count": 65,
   "metadata": {
    "collapsed": false
   },
   "outputs": [
    {
     "data": {
      "text/html": [
       "<div>\n",
       "<table border=\"1\" class=\"dataframe\">\n",
       "  <thead>\n",
       "    <tr style=\"text-align: right;\">\n",
       "      <th></th>\n",
       "      <th>threshold</th>\n",
       "      <th>precision</th>\n",
       "      <th>recall</th>\n",
       "      <th>f1</th>\n",
       "    </tr>\n",
       "  </thead>\n",
       "  <tbody>\n",
       "    <tr>\n",
       "      <th>0</th>\n",
       "      <td>0.37</td>\n",
       "      <td>0.557377</td>\n",
       "      <td>0.988372</td>\n",
       "      <td>0.712788</td>\n",
       "    </tr>\n",
       "    <tr>\n",
       "      <th>1</th>\n",
       "      <td>0.39</td>\n",
       "      <td>0.599291</td>\n",
       "      <td>0.982558</td>\n",
       "      <td>0.744493</td>\n",
       "    </tr>\n",
       "    <tr>\n",
       "      <th>2</th>\n",
       "      <td>0.41</td>\n",
       "      <td>0.639847</td>\n",
       "      <td>0.970930</td>\n",
       "      <td>0.771363</td>\n",
       "    </tr>\n",
       "    <tr>\n",
       "      <th>3</th>\n",
       "      <td>0.43</td>\n",
       "      <td>0.670683</td>\n",
       "      <td>0.970930</td>\n",
       "      <td>0.793349</td>\n",
       "    </tr>\n",
       "    <tr>\n",
       "      <th>4</th>\n",
       "      <td>0.45</td>\n",
       "      <td>0.694561</td>\n",
       "      <td>0.965116</td>\n",
       "      <td>0.807786</td>\n",
       "    </tr>\n",
       "    <tr>\n",
       "      <th>5</th>\n",
       "      <td>0.47</td>\n",
       "      <td>0.723684</td>\n",
       "      <td>0.959302</td>\n",
       "      <td>0.825000</td>\n",
       "    </tr>\n",
       "    <tr>\n",
       "      <th>6</th>\n",
       "      <td>0.49</td>\n",
       "      <td>0.752336</td>\n",
       "      <td>0.936047</td>\n",
       "      <td>0.834197</td>\n",
       "    </tr>\n",
       "    <tr>\n",
       "      <th>7</th>\n",
       "      <td>0.51</td>\n",
       "      <td>0.791878</td>\n",
       "      <td>0.906977</td>\n",
       "      <td>0.845528</td>\n",
       "    </tr>\n",
       "    <tr>\n",
       "      <th>8</th>\n",
       "      <td>0.53</td>\n",
       "      <td>0.812834</td>\n",
       "      <td>0.883721</td>\n",
       "      <td>0.846797</td>\n",
       "    </tr>\n",
       "    <tr>\n",
       "      <th>9</th>\n",
       "      <td>0.55</td>\n",
       "      <td>0.808989</td>\n",
       "      <td>0.837209</td>\n",
       "      <td>0.822857</td>\n",
       "    </tr>\n",
       "    <tr>\n",
       "      <th>10</th>\n",
       "      <td>0.57</td>\n",
       "      <td>0.829268</td>\n",
       "      <td>0.790698</td>\n",
       "      <td>0.809524</td>\n",
       "    </tr>\n",
       "    <tr>\n",
       "      <th>11</th>\n",
       "      <td>0.59</td>\n",
       "      <td>0.831169</td>\n",
       "      <td>0.744186</td>\n",
       "      <td>0.785276</td>\n",
       "    </tr>\n",
       "    <tr>\n",
       "      <th>12</th>\n",
       "      <td>0.61</td>\n",
       "      <td>0.843972</td>\n",
       "      <td>0.691860</td>\n",
       "      <td>0.760383</td>\n",
       "    </tr>\n",
       "    <tr>\n",
       "      <th>13</th>\n",
       "      <td>0.63</td>\n",
       "      <td>0.860465</td>\n",
       "      <td>0.645349</td>\n",
       "      <td>0.737542</td>\n",
       "    </tr>\n",
       "    <tr>\n",
       "      <th>14</th>\n",
       "      <td>0.65</td>\n",
       "      <td>0.875000</td>\n",
       "      <td>0.610465</td>\n",
       "      <td>0.719178</td>\n",
       "    </tr>\n",
       "    <tr>\n",
       "      <th>15</th>\n",
       "      <td>0.67</td>\n",
       "      <td>0.884615</td>\n",
       "      <td>0.534884</td>\n",
       "      <td>0.666667</td>\n",
       "    </tr>\n",
       "    <tr>\n",
       "      <th>16</th>\n",
       "      <td>0.69</td>\n",
       "      <td>0.954023</td>\n",
       "      <td>0.482558</td>\n",
       "      <td>0.640927</td>\n",
       "    </tr>\n",
       "    <tr>\n",
       "      <th>17</th>\n",
       "      <td>0.71</td>\n",
       "      <td>0.960000</td>\n",
       "      <td>0.418605</td>\n",
       "      <td>0.582996</td>\n",
       "    </tr>\n",
       "    <tr>\n",
       "      <th>18</th>\n",
       "      <td>0.73</td>\n",
       "      <td>0.954545</td>\n",
       "      <td>0.366279</td>\n",
       "      <td>0.529412</td>\n",
       "    </tr>\n",
       "    <tr>\n",
       "      <th>19</th>\n",
       "      <td>0.75</td>\n",
       "      <td>1.000000</td>\n",
       "      <td>0.308140</td>\n",
       "      <td>0.471111</td>\n",
       "    </tr>\n",
       "  </tbody>\n",
       "</table>\n",
       "</div>"
      ],
      "text/plain": [
       "    threshold  precision    recall        f1\n",
       "0        0.37   0.557377  0.988372  0.712788\n",
       "1        0.39   0.599291  0.982558  0.744493\n",
       "2        0.41   0.639847  0.970930  0.771363\n",
       "3        0.43   0.670683  0.970930  0.793349\n",
       "4        0.45   0.694561  0.965116  0.807786\n",
       "5        0.47   0.723684  0.959302  0.825000\n",
       "6        0.49   0.752336  0.936047  0.834197\n",
       "7        0.51   0.791878  0.906977  0.845528\n",
       "8        0.53   0.812834  0.883721  0.846797\n",
       "9        0.55   0.808989  0.837209  0.822857\n",
       "10       0.57   0.829268  0.790698  0.809524\n",
       "11       0.59   0.831169  0.744186  0.785276\n",
       "12       0.61   0.843972  0.691860  0.760383\n",
       "13       0.63   0.860465  0.645349  0.737542\n",
       "14       0.65   0.875000  0.610465  0.719178\n",
       "15       0.67   0.884615  0.534884  0.666667\n",
       "16       0.69   0.954023  0.482558  0.640927\n",
       "17       0.71   0.960000  0.418605  0.582996\n",
       "18       0.73   0.954545  0.366279  0.529412\n",
       "19       0.75   1.000000  0.308140  0.471111"
      ]
     },
     "execution_count": 65,
     "metadata": {},
     "output_type": "execute_result"
    }
   ],
   "source": [
    "what_if_matrix(lp, 'jaccard_ws', 'label', 0.57, 0.02, 10)"
   ]
  },
  {
   "cell_type": "code",
   "execution_count": 29,
   "metadata": {
    "collapsed": false
   },
   "outputs": [
    {
     "data": {
      "text/plain": [
       "376"
      ]
     },
     "execution_count": 29,
     "metadata": {},
     "output_type": "execute_result"
    }
   ],
   "source": [
    "lp1=lp[lp['jaccard_ws'] >= 0.34]\n",
    "len(lp1)"
   ]
  },
  {
   "cell_type": "code",
   "execution_count": 30,
   "metadata": {
    "collapsed": false
   },
   "outputs": [
    {
     "data": {
      "text/html": [
       "<div>\n",
       "<table border=\"1\" class=\"dataframe\">\n",
       "  <thead>\n",
       "    <tr style=\"text-align: right;\">\n",
       "      <th></th>\n",
       "      <th>_id</th>\n",
       "      <th>l_id</th>\n",
       "      <th>r_id</th>\n",
       "      <th>jaccard_ws</th>\n",
       "      <th>label</th>\n",
       "    </tr>\n",
       "  </thead>\n",
       "  <tbody>\n",
       "    <tr>\n",
       "      <th>0</th>\n",
       "      <td>100000</td>\n",
       "      <td>conf/vldb/ChakrabartiDAR97</td>\n",
       "      <td>8IR1NrQ4zm8J</td>\n",
       "      <td>0.784000</td>\n",
       "      <td>1</td>\n",
       "    </tr>\n",
       "    <tr>\n",
       "      <th>2</th>\n",
       "      <td>100002</td>\n",
       "      <td>conf/sigmod/LabrinidisR00</td>\n",
       "      <td>DKUouEkK_b4J</td>\n",
       "      <td>1.000000</td>\n",
       "      <td>1</td>\n",
       "    </tr>\n",
       "    <tr>\n",
       "      <th>24</th>\n",
       "      <td>37211</td>\n",
       "      <td>journals/sigmod/EnglertGH95</td>\n",
       "      <td>JRXuKm3E_foJ</td>\n",
       "      <td>1.000000</td>\n",
       "      <td>1</td>\n",
       "    </tr>\n",
       "    <tr>\n",
       "      <th>25</th>\n",
       "      <td>5067</td>\n",
       "      <td>journals/sigmod/NobleS95</td>\n",
       "      <td>rRvcD6HKhasJ</td>\n",
       "      <td>0.941176</td>\n",
       "      <td>1</td>\n",
       "    </tr>\n",
       "    <tr>\n",
       "      <th>26</th>\n",
       "      <td>61027</td>\n",
       "      <td>journals/tods/Chomicki03</td>\n",
       "      <td>pHuL-9kHWH0J</td>\n",
       "      <td>1.000000</td>\n",
       "      <td>1</td>\n",
       "    </tr>\n",
       "  </tbody>\n",
       "</table>\n",
       "</div>"
      ],
      "text/plain": [
       "       _id                         l_id          r_id  jaccard_ws  label\n",
       "0   100000   conf/vldb/ChakrabartiDAR97  8IR1NrQ4zm8J    0.784000      1\n",
       "2   100002    conf/sigmod/LabrinidisR00  DKUouEkK_b4J    1.000000      1\n",
       "24   37211  journals/sigmod/EnglertGH95  JRXuKm3E_foJ    1.000000      1\n",
       "25    5067     journals/sigmod/NobleS95  rRvcD6HKhasJ    0.941176      1\n",
       "26   61027     journals/tods/Chomicki03  pHuL-9kHWH0J    1.000000      1"
      ]
     },
     "execution_count": 30,
     "metadata": {},
     "output_type": "execute_result"
    }
   ],
   "source": [
    "lp1.head()"
   ]
  },
  {
   "cell_type": "code",
   "execution_count": 51,
   "metadata": {
    "collapsed": false
   },
   "outputs": [
    {
     "name": "stderr",
     "output_type": "stream",
     "text": [
      "0%                          100%\n",
      "[                              ]\r",
      "[#                             ] | ETA: 00:00:42\r",
      "[##                            ] | ETA: 00:00:38\r",
      "[###                           ] | ETA: 00:00:35\r",
      "[####                          ] | ETA: 00:00:34\r",
      "[#####                         ] | ETA: 00:00:33\r",
      "[######                        ] | ETA: 00:00:32\r",
      "[#######                       ] | ETA: 00:00:31\r",
      "[########                      ] | ETA: 00:00:29\r",
      "[#########                     ] | ETA: 00:00:28\r",
      "[##########                    ] | ETA: 00:00:26\r",
      "[###########                   ] | ETA: 00:00:25\r",
      "[############                  ] | ETA: 00:00:24\r",
      "[#############                 ] | ETA: 00:00:22\r",
      "[##############                ] | ETA: 00:00:21\r",
      "[###############               ] | ETA: 00:00:20\r",
      "[################              ] | ETA: 00:00:19\r",
      "[#################             ] | ETA: 00:00:17\r",
      "[##################            ] | ETA: 00:00:16\r",
      "[###################           ] | ETA: 00:00:14\r",
      "[####################          ] | ETA: 00:00:13\r",
      "[#####################         ] | ETA: 00:00:12\r",
      "[######################        ] | ETA: 00:00:10\r",
      "[#######################       ] | ETA: 00:00:09\r",
      "[########################      ] | ETA: 00:00:07\r",
      "[#########################     ] | ETA: 00:00:06\r",
      "[##########################    ] | ETA: 00:00:05\r",
      "[###########################   ] | ETA: 00:00:03\r",
      "[############################  ] | ETA: 00:00:02\r",
      "[############################# ] | ETA: 00:00:01\r",
      "[##############################] | ETA: 00:00:00\r",
      "[##############################] | ETA: 00:00:00\n",
      "Total time elapsed: 00:00:39\n"
     ]
    }
   ],
   "source": [
    "cc=ssj.jaccard_join(ldf,rdf,'id','id','cln_title','cln_title',qg3,0.5777797,l_out_attrs=['year'], r_out_attrs=['year'],n_jobs=4)"
   ]
  },
  {
   "cell_type": "code",
   "execution_count": 53,
   "metadata": {
    "collapsed": false
   },
   "outputs": [
    {
     "data": {
      "text/plain": [
       "5070"
      ]
     },
     "execution_count": 53,
     "metadata": {},
     "output_type": "execute_result"
    }
   ],
   "source": [
    "len(cc)"
   ]
  },
  {
   "cell_type": "code",
   "execution_count": 54,
   "metadata": {
    "collapsed": false
   },
   "outputs": [
    {
     "data": {
      "text/plain": [
       "4626"
      ]
     },
     "execution_count": 54,
     "metadata": {},
     "output_type": "execute_result"
    }
   ],
   "source": [
    "labeled_cc = label_table_using_gold(cc, 'l_id', 'r_id', '/scratch/citgold.csv')\n",
    "sum(labeled_cc['label'])\n"
   ]
  },
  {
   "cell_type": "code",
   "execution_count": 55,
   "metadata": {
    "collapsed": false
   },
   "outputs": [
    {
     "data": {
      "text/plain": [
       "(0.9124260355029585, 0.8651580325416122)"
      ]
     },
     "execution_count": 55,
     "metadata": {},
     "output_type": "execute_result"
    }
   ],
   "source": [
    "4626/5070.0, 4626/5347.0"
   ]
  },
  {
   "cell_type": "code",
   "execution_count": 56,
   "metadata": {
    "collapsed": false
   },
   "outputs": [
    {
     "name": "stderr",
     "output_type": "stream",
     "text": [
      "0%                          100%\n",
      "[                              ]\r",
      "[#                             ] | ETA: 00:02:04\r",
      "[##                            ] | ETA: 00:01:58\r",
      "[###                           ] | ETA: 00:01:51\r",
      "[####                          ] | ETA: 00:01:47\r",
      "[#####                         ] | ETA: 00:01:42\r",
      "[######                        ] | ETA: 00:01:37\r",
      "[#######                       ] | ETA: 00:01:32\r",
      "[########                      ] | ETA: 00:01:28\r",
      "[#########                     ] | ETA: 00:01:24\r",
      "[##########                    ] | ETA: 00:01:19\r",
      "[###########                   ] | ETA: 00:01:15\r",
      "[############                  ] | ETA: 00:01:12\r",
      "[#############                 ] | ETA: 00:01:08\r",
      "[##############                ] | ETA: 00:01:04\r",
      "[###############               ] | ETA: 00:01:00\r",
      "[################              ] | ETA: 00:00:56\r",
      "[#################             ] | ETA: 00:00:52\r",
      "[##################            ] | ETA: 00:00:48\r",
      "[###################           ] | ETA: 00:00:44\r",
      "[####################          ] | ETA: 00:00:40\r",
      "[#####################         ] | ETA: 00:00:36\r",
      "[######################        ] | ETA: 00:00:32\r",
      "[#######################       ] | ETA: 00:00:28\r",
      "[########################      ] | ETA: 00:00:24\r",
      "[#########################     ] | ETA: 00:00:20\r",
      "[##########################    ] | ETA: 00:00:16\r",
      "[###########################   ] | ETA: 00:00:12\r",
      "[############################  ] | ETA: 00:00:08\r",
      "[############################# ] | ETA: 00:00:04\r",
      "[##############################] | ETA: 00:00:00\r",
      "[##############################] | ETA: 00:00:00\n",
      "Total time elapsed: 00:02:00\n"
     ]
    }
   ],
   "source": [
    "cc1=ssj.jaccard_join(ldf,rdf,'id','id','cln_title','cln_title',qg3,0.34,l_out_attrs=['year'], r_out_attrs=['year'],n_jobs=4)"
   ]
  },
  {
   "cell_type": "code",
   "execution_count": 57,
   "metadata": {
    "collapsed": false
   },
   "outputs": [
    {
     "data": {
      "text/plain": [
       "5270"
      ]
     },
     "execution_count": 57,
     "metadata": {},
     "output_type": "execute_result"
    }
   ],
   "source": [
    "labeled_cc1 = label_table_using_gold(cc1, 'l_id', 'r_id', '/scratch/citgold.csv')\n",
    "sum(labeled_cc1['label'])"
   ]
  },
  {
   "cell_type": "code",
   "execution_count": 30,
   "metadata": {
    "collapsed": false
   },
   "outputs": [
    {
     "name": "stderr",
     "output_type": "stream",
     "text": [
      "0%                          100%\n",
      "[##############################] | ETA: 00:00:00\n",
      "Total time elapsed: 00:00:00\n"
     ]
    }
   ],
   "source": [
    "cc2=ssj.jaccard_join(ldf,rdf,'id','id','match_col','match_col',qg3,0.43902888)\n"
   ]
  },
  {
   "cell_type": "code",
   "execution_count": 31,
   "metadata": {
    "collapsed": false
   },
   "outputs": [
    {
     "data": {
      "text/plain": [
       "101"
      ]
     },
     "execution_count": 31,
     "metadata": {},
     "output_type": "execute_result"
    }
   ],
   "source": [
    "labeled_cc2 = label_table_using_gold(cc2, 'l_id', 'r_id', '/scratch/resgold.csv')\n",
    "sum(labeled_cc2['label'])"
   ]
  },
  {
   "cell_type": "code",
   "execution_count": 32,
   "metadata": {
    "collapsed": false
   },
   "outputs": [
    {
     "data": {
      "text/plain": [
       "102"
      ]
     },
     "execution_count": 32,
     "metadata": {},
     "output_type": "execute_result"
    }
   ],
   "source": [
    "len(cc2)"
   ]
  },
  {
   "cell_type": "code",
   "execution_count": 29,
   "metadata": {
    "collapsed": false
   },
   "outputs": [
    {
     "data": {
      "text/plain": [
       "(0.8898876404494382, 0.8887226482139517)"
      ]
     },
     "execution_count": 29,
     "metadata": {},
     "output_type": "execute_result"
    }
   ],
   "source": [
    "4752/5340.0, 4752/5347.0"
   ]
  },
  {
   "cell_type": "code",
   "execution_count": null,
   "metadata": {
    "collapsed": true
   },
   "outputs": [],
   "source": []
  }
 ],
 "metadata": {
  "kernelspec": {
   "display_name": "Python 2",
   "language": "python",
   "name": "python2"
  },
  "language_info": {
   "codemirror_mode": {
    "name": "ipython",
    "version": 2
   },
   "file_extension": ".py",
   "mimetype": "text/x-python",
   "name": "python",
   "nbconvert_exporter": "python",
   "pygments_lexer": "ipython2",
   "version": "2.7.12"
  }
 },
 "nbformat": 4,
 "nbformat_minor": 0
}
