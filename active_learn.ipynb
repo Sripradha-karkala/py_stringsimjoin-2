{
 "cells": [
  {
   "cell_type": "code",
   "execution_count": 23,
   "metadata": {
    "collapsed": true
   },
   "outputs": [],
   "source": [
    "from py_stringsimjoin.sampler.sample import sample_pairs\n",
    "from py_stringsimjoin.feature.autofeaturegen import get_features\n",
    "from py_stringsimjoin.feature.extractfeatures import extract_feature_vecs\n",
    "from py_stringsimjoin.active_learner.active_learner import ActiveLearner\n",
    "from sklearn.ensemble import RandomForestClassifier\n",
    "from sklearn.tree import DecisionTreeClassifier, export_graphviz\n",
    "import pandas as pd\n",
    "import graphviz"
   ]
  },
  {
   "cell_type": "code",
   "execution_count": 24,
   "metadata": {
    "collapsed": true
   },
   "outputs": [],
   "source": [
    "#ldf=pd.read_csv('/scratch/songs/msd_reduced.csv').head(10000)\n",
    "#rdf=pd.read_csv('/scratch/songs/msd_reduced.csv').head(10000)\n",
    "ldf=pd.read_csv('/scratch/products_data/walmart_clean.csv')\n",
    "rdf=pd.read_csv('/scratch/products_data/amazon_clean.csv')"
   ]
  },
  {
   "cell_type": "code",
   "execution_count": 25,
   "metadata": {
    "collapsed": false
   },
   "outputs": [
    {
     "data": {
      "text/plain": [
       "0    The pocket-size Koss 3-Band Equalizer delivers high-fidelity performance and output normally res...\n",
       "1                                        Kodak Black Ink Cartridge 10B is a standard black ink cartridge\n",
       "2                                                  1GB - 333MHz DDR333 PC2700 - DDR SDRAM - 184-pin DIMM\n",
       "3    KINAMAX MS-UES2 Mini High Precision USB 3-Button 3D Optical Scroll Wheel Mouse with Retractable ...\n",
       "4                                                                    Wireless MOUSE FOR NETBOOKS USBWRLS\n",
       "Name: proddescrlong, dtype: object"
      ]
     },
     "execution_count": 25,
     "metadata": {},
     "output_type": "execute_result"
    }
   ],
   "source": [
    "rdf.head()['proddescrlong']"
   ]
  },
  {
   "cell_type": "code",
   "execution_count": 26,
   "metadata": {
    "collapsed": false
   },
   "outputs": [
    {
     "name": "stderr",
     "output_type": "stream",
     "text": [
      "0%                          100%\n",
      "[##############################] | ETA: 00:00:00\n",
      "Total time elapsed: 00:00:13\n"
     ]
    }
   ],
   "source": [
    "c=sample_pairs(ldf,rdf,'custom_id','custom_id','longdescr','proddescrlong',500000, 100)"
   ]
  },
  {
   "cell_type": "code",
   "execution_count": 27,
   "metadata": {
    "collapsed": false
   },
   "outputs": [
    {
     "name": "stderr",
     "output_type": "stream",
     "text": [
      "0%                          100%\n",
      "[                              ]\r",
      "[#                             ] | ETA: 00:03:32\r",
      "[##                            ] | ETA: 00:03:15\r",
      "[###                           ] | ETA: 00:03:04\r",
      "[####                          ] | ETA: 00:03:03\r",
      "[#####                         ] | ETA: 00:02:57\r",
      "[######                        ] | ETA: 00:02:49\r",
      "[#######                       ] | ETA: 00:02:41\r",
      "[########                      ] | ETA: 00:02:34\r",
      "[#########                     ] | ETA: 00:02:30\r",
      "[##########                    ] | ETA: 00:02:22\r",
      "[###########                   ] | ETA: 00:02:20\r",
      "[############                  ] | ETA: 00:02:12\r",
      "[#############                 ] | ETA: 00:02:04\r",
      "[##############                ] | ETA: 00:01:57\r",
      "[###############               ] | ETA: 00:01:51\r",
      "[################              ] | ETA: 00:01:45\r",
      "[#################             ] | ETA: 00:01:36\r",
      "[##################            ] | ETA: 00:01:28\r",
      "[###################           ] | ETA: 00:01:21\r",
      "[####################          ] | ETA: 00:01:13\r",
      "[#####################         ] | ETA: 00:01:05\r",
      "[######################        ] | ETA: 00:00:58\r",
      "[#######################       ] | ETA: 00:00:50\r",
      "[########################      ] | ETA: 00:00:43\r",
      "[#########################     ] | ETA: 00:00:36\r",
      "[##########################    ] | ETA: 00:00:29\r",
      "[###########################   ] | ETA: 00:00:21\r",
      "[############################  ] | ETA: 00:00:14\r",
      "[############################# ] | ETA: 00:00:07\r",
      "[##############################] | ETA: 00:00:00\r",
      "[##############################] | ETA: 00:00:00\n",
      "Total time elapsed: 00:03:39\n"
     ]
    }
   ],
   "source": [
    "ft = get_features()\n",
    "fvs = extract_feature_vecs(c, 'l_custom_id','r_custom_id',ldf,rdf,'custom_id','custom_id','longdescr','proddescrlong',ft,n_jobs=4)"
   ]
  },
  {
   "cell_type": "code",
   "execution_count": 28,
   "metadata": {
    "collapsed": false
   },
   "outputs": [
    {
     "data": {
      "text/html": [
       "<div>\n",
       "<table border=\"1\" class=\"dataframe\">\n",
       "  <thead>\n",
       "    <tr style=\"text-align: right;\">\n",
       "      <th></th>\n",
       "      <th>_id</th>\n",
       "      <th>l_custom_id</th>\n",
       "      <th>r_custom_id</th>\n",
       "      <th>jaccard_ws</th>\n",
       "      <th>cosine_ws</th>\n",
       "      <th>dice_ws</th>\n",
       "      <th>overlap_ws</th>\n",
       "      <th>overlap_coefficient_ws</th>\n",
       "    </tr>\n",
       "  </thead>\n",
       "  <tbody>\n",
       "    <tr>\n",
       "      <th>1027</th>\n",
       "      <td>1027</td>\n",
       "      <td>167</td>\n",
       "      <td>8787</td>\n",
       "      <td>0.974026</td>\n",
       "      <td>0.986842</td>\n",
       "      <td>0.986842</td>\n",
       "      <td>75</td>\n",
       "      <td>0.986842</td>\n",
       "    </tr>\n",
       "    <tr>\n",
       "      <th>1055</th>\n",
       "      <td>1055</td>\n",
       "      <td>853</td>\n",
       "      <td>8787</td>\n",
       "      <td>0.974026</td>\n",
       "      <td>0.986842</td>\n",
       "      <td>0.986842</td>\n",
       "      <td>75</td>\n",
       "      <td>0.986842</td>\n",
       "    </tr>\n",
       "    <tr>\n",
       "      <th>1059</th>\n",
       "      <td>1059</td>\n",
       "      <td>2431</td>\n",
       "      <td>8787</td>\n",
       "      <td>0.974026</td>\n",
       "      <td>0.986842</td>\n",
       "      <td>0.986842</td>\n",
       "      <td>75</td>\n",
       "      <td>0.986842</td>\n",
       "    </tr>\n",
       "    <tr>\n",
       "      <th>1069</th>\n",
       "      <td>1069</td>\n",
       "      <td>2472</td>\n",
       "      <td>8787</td>\n",
       "      <td>0.974026</td>\n",
       "      <td>0.986842</td>\n",
       "      <td>0.986842</td>\n",
       "      <td>75</td>\n",
       "      <td>0.986842</td>\n",
       "    </tr>\n",
       "    <tr>\n",
       "      <th>9636</th>\n",
       "      <td>9636</td>\n",
       "      <td>167</td>\n",
       "      <td>20122</td>\n",
       "      <td>0.974026</td>\n",
       "      <td>0.986842</td>\n",
       "      <td>0.986842</td>\n",
       "      <td>75</td>\n",
       "      <td>0.986842</td>\n",
       "    </tr>\n",
       "    <tr>\n",
       "      <th>9669</th>\n",
       "      <td>9669</td>\n",
       "      <td>853</td>\n",
       "      <td>20122</td>\n",
       "      <td>0.974026</td>\n",
       "      <td>0.986842</td>\n",
       "      <td>0.986842</td>\n",
       "      <td>75</td>\n",
       "      <td>0.986842</td>\n",
       "    </tr>\n",
       "    <tr>\n",
       "      <th>9672</th>\n",
       "      <td>9672</td>\n",
       "      <td>2431</td>\n",
       "      <td>20122</td>\n",
       "      <td>0.974026</td>\n",
       "      <td>0.986842</td>\n",
       "      <td>0.986842</td>\n",
       "      <td>75</td>\n",
       "      <td>0.986842</td>\n",
       "    </tr>\n",
       "    <tr>\n",
       "      <th>9679</th>\n",
       "      <td>9679</td>\n",
       "      <td>2472</td>\n",
       "      <td>20122</td>\n",
       "      <td>0.974026</td>\n",
       "      <td>0.986842</td>\n",
       "      <td>0.986842</td>\n",
       "      <td>75</td>\n",
       "      <td>0.986842</td>\n",
       "    </tr>\n",
       "    <tr>\n",
       "      <th>50033</th>\n",
       "      <td>300033</td>\n",
       "      <td>167</td>\n",
       "      <td>802</td>\n",
       "      <td>0.974026</td>\n",
       "      <td>0.986842</td>\n",
       "      <td>0.986842</td>\n",
       "      <td>75</td>\n",
       "      <td>0.986842</td>\n",
       "    </tr>\n",
       "    <tr>\n",
       "      <th>50068</th>\n",
       "      <td>300068</td>\n",
       "      <td>853</td>\n",
       "      <td>802</td>\n",
       "      <td>0.974026</td>\n",
       "      <td>0.986842</td>\n",
       "      <td>0.986842</td>\n",
       "      <td>75</td>\n",
       "      <td>0.986842</td>\n",
       "    </tr>\n",
       "    <tr>\n",
       "      <th>50072</th>\n",
       "      <td>300072</td>\n",
       "      <td>2431</td>\n",
       "      <td>802</td>\n",
       "      <td>0.974026</td>\n",
       "      <td>0.986842</td>\n",
       "      <td>0.986842</td>\n",
       "      <td>75</td>\n",
       "      <td>0.986842</td>\n",
       "    </tr>\n",
       "    <tr>\n",
       "      <th>50079</th>\n",
       "      <td>300079</td>\n",
       "      <td>2472</td>\n",
       "      <td>802</td>\n",
       "      <td>0.974026</td>\n",
       "      <td>0.986842</td>\n",
       "      <td>0.986842</td>\n",
       "      <td>75</td>\n",
       "      <td>0.986842</td>\n",
       "    </tr>\n",
       "    <tr>\n",
       "      <th>50232</th>\n",
       "      <td>300232</td>\n",
       "      <td>167</td>\n",
       "      <td>6741</td>\n",
       "      <td>0.974026</td>\n",
       "      <td>0.986842</td>\n",
       "      <td>0.986842</td>\n",
       "      <td>75</td>\n",
       "      <td>0.986842</td>\n",
       "    </tr>\n",
       "    <tr>\n",
       "      <th>50266</th>\n",
       "      <td>300266</td>\n",
       "      <td>853</td>\n",
       "      <td>6741</td>\n",
       "      <td>0.974026</td>\n",
       "      <td>0.986842</td>\n",
       "      <td>0.986842</td>\n",
       "      <td>75</td>\n",
       "      <td>0.986842</td>\n",
       "    </tr>\n",
       "    <tr>\n",
       "      <th>50272</th>\n",
       "      <td>300272</td>\n",
       "      <td>2431</td>\n",
       "      <td>6741</td>\n",
       "      <td>0.974026</td>\n",
       "      <td>0.986842</td>\n",
       "      <td>0.986842</td>\n",
       "      <td>75</td>\n",
       "      <td>0.986842</td>\n",
       "    </tr>\n",
       "    <tr>\n",
       "      <th>50278</th>\n",
       "      <td>300278</td>\n",
       "      <td>2472</td>\n",
       "      <td>6741</td>\n",
       "      <td>0.974026</td>\n",
       "      <td>0.986842</td>\n",
       "      <td>0.986842</td>\n",
       "      <td>75</td>\n",
       "      <td>0.986842</td>\n",
       "    </tr>\n",
       "    <tr>\n",
       "      <th>55436</th>\n",
       "      <td>305436</td>\n",
       "      <td>167</td>\n",
       "      <td>806</td>\n",
       "      <td>0.974026</td>\n",
       "      <td>0.986842</td>\n",
       "      <td>0.986842</td>\n",
       "      <td>75</td>\n",
       "      <td>0.986842</td>\n",
       "    </tr>\n",
       "    <tr>\n",
       "      <th>55467</th>\n",
       "      <td>305467</td>\n",
       "      <td>853</td>\n",
       "      <td>806</td>\n",
       "      <td>0.974026</td>\n",
       "      <td>0.986842</td>\n",
       "      <td>0.986842</td>\n",
       "      <td>75</td>\n",
       "      <td>0.986842</td>\n",
       "    </tr>\n",
       "    <tr>\n",
       "      <th>55470</th>\n",
       "      <td>305470</td>\n",
       "      <td>2431</td>\n",
       "      <td>806</td>\n",
       "      <td>0.974026</td>\n",
       "      <td>0.986842</td>\n",
       "      <td>0.986842</td>\n",
       "      <td>75</td>\n",
       "      <td>0.986842</td>\n",
       "    </tr>\n",
       "    <tr>\n",
       "      <th>55480</th>\n",
       "      <td>305480</td>\n",
       "      <td>2472</td>\n",
       "      <td>806</td>\n",
       "      <td>0.974026</td>\n",
       "      <td>0.986842</td>\n",
       "      <td>0.986842</td>\n",
       "      <td>75</td>\n",
       "      <td>0.986842</td>\n",
       "    </tr>\n",
       "    <tr>\n",
       "      <th>54930</th>\n",
       "      <td>429930</td>\n",
       "      <td>167</td>\n",
       "      <td>4729</td>\n",
       "      <td>0.974026</td>\n",
       "      <td>0.986842</td>\n",
       "      <td>0.986842</td>\n",
       "      <td>75</td>\n",
       "      <td>0.986842</td>\n",
       "    </tr>\n",
       "    <tr>\n",
       "      <th>54966</th>\n",
       "      <td>429966</td>\n",
       "      <td>853</td>\n",
       "      <td>4729</td>\n",
       "      <td>0.974026</td>\n",
       "      <td>0.986842</td>\n",
       "      <td>0.986842</td>\n",
       "      <td>75</td>\n",
       "      <td>0.986842</td>\n",
       "    </tr>\n",
       "    <tr>\n",
       "      <th>54970</th>\n",
       "      <td>429970</td>\n",
       "      <td>2431</td>\n",
       "      <td>4729</td>\n",
       "      <td>0.974026</td>\n",
       "      <td>0.986842</td>\n",
       "      <td>0.986842</td>\n",
       "      <td>75</td>\n",
       "      <td>0.986842</td>\n",
       "    </tr>\n",
       "    <tr>\n",
       "      <th>54977</th>\n",
       "      <td>429977</td>\n",
       "      <td>2472</td>\n",
       "      <td>4729</td>\n",
       "      <td>0.974026</td>\n",
       "      <td>0.986842</td>\n",
       "      <td>0.986842</td>\n",
       "      <td>75</td>\n",
       "      <td>0.986842</td>\n",
       "    </tr>\n",
       "  </tbody>\n",
       "</table>\n",
       "</div>"
      ],
      "text/plain": [
       "          _id  l_custom_id  r_custom_id  jaccard_ws  cosine_ws   dice_ws  \\\n",
       "1027     1027          167         8787    0.974026   0.986842  0.986842   \n",
       "1055     1055          853         8787    0.974026   0.986842  0.986842   \n",
       "1059     1059         2431         8787    0.974026   0.986842  0.986842   \n",
       "1069     1069         2472         8787    0.974026   0.986842  0.986842   \n",
       "9636     9636          167        20122    0.974026   0.986842  0.986842   \n",
       "9669     9669          853        20122    0.974026   0.986842  0.986842   \n",
       "9672     9672         2431        20122    0.974026   0.986842  0.986842   \n",
       "9679     9679         2472        20122    0.974026   0.986842  0.986842   \n",
       "50033  300033          167          802    0.974026   0.986842  0.986842   \n",
       "50068  300068          853          802    0.974026   0.986842  0.986842   \n",
       "50072  300072         2431          802    0.974026   0.986842  0.986842   \n",
       "50079  300079         2472          802    0.974026   0.986842  0.986842   \n",
       "50232  300232          167         6741    0.974026   0.986842  0.986842   \n",
       "50266  300266          853         6741    0.974026   0.986842  0.986842   \n",
       "50272  300272         2431         6741    0.974026   0.986842  0.986842   \n",
       "50278  300278         2472         6741    0.974026   0.986842  0.986842   \n",
       "55436  305436          167          806    0.974026   0.986842  0.986842   \n",
       "55467  305467          853          806    0.974026   0.986842  0.986842   \n",
       "55470  305470         2431          806    0.974026   0.986842  0.986842   \n",
       "55480  305480         2472          806    0.974026   0.986842  0.986842   \n",
       "54930  429930          167         4729    0.974026   0.986842  0.986842   \n",
       "54966  429966          853         4729    0.974026   0.986842  0.986842   \n",
       "54970  429970         2431         4729    0.974026   0.986842  0.986842   \n",
       "54977  429977         2472         4729    0.974026   0.986842  0.986842   \n",
       "\n",
       "       overlap_ws  overlap_coefficient_ws  \n",
       "1027           75                0.986842  \n",
       "1055           75                0.986842  \n",
       "1059           75                0.986842  \n",
       "1069           75                0.986842  \n",
       "9636           75                0.986842  \n",
       "9669           75                0.986842  \n",
       "9672           75                0.986842  \n",
       "9679           75                0.986842  \n",
       "50033          75                0.986842  \n",
       "50068          75                0.986842  \n",
       "50072          75                0.986842  \n",
       "50079          75                0.986842  \n",
       "50232          75                0.986842  \n",
       "50266          75                0.986842  \n",
       "50272          75                0.986842  \n",
       "50278          75                0.986842  \n",
       "55436          75                0.986842  \n",
       "55467          75                0.986842  \n",
       "55470          75                0.986842  \n",
       "55480          75                0.986842  \n",
       "54930          75                0.986842  \n",
       "54966          75                0.986842  \n",
       "54970          75                0.986842  \n",
       "54977          75                0.986842  "
      ]
     },
     "execution_count": 28,
     "metadata": {},
     "output_type": "execute_result"
    }
   ],
   "source": [
    "fvs.head()\n",
    "fvs[fvs['jaccard_ws']==0.97402597402597402]\n"
   ]
  },
  {
   "cell_type": "code",
   "execution_count": 29,
   "metadata": {
    "collapsed": false
   },
   "outputs": [],
   "source": [
    "rf=RandomForestClassifier(10)\n",
    "al=ActiveLearner(rf, 20, 20, '/scratch/products_data/productsGold.csv', '/scratch/products_data/productsSeed.csv')\n",
    "labels = (fvs['l_custom_id'].astype(str) + ',' +  fvs['r_custom_id'].astype(str)).apply(lambda val: al.gold_pairs.get(val, 0))"
   ]
  },
  {
   "cell_type": "code",
   "execution_count": 30,
   "metadata": {
    "collapsed": false
   },
   "outputs": [
    {
     "data": {
      "text/plain": [
       "{'1,1': 0, '1234,12408': 1, '2,2': 0, '395,1768': 1}"
      ]
     },
     "execution_count": 30,
     "metadata": {},
     "output_type": "execute_result"
    }
   ],
   "source": [
    "al.seed_pairs"
   ]
  },
  {
   "cell_type": "code",
   "execution_count": 31,
   "metadata": {
    "collapsed": false
   },
   "outputs": [
    {
     "data": {
      "text/plain": [
       "155"
      ]
     },
     "execution_count": 31,
     "metadata": {},
     "output_type": "execute_result"
    }
   ],
   "source": [
    "sum(labels)\n",
    "#fvs[fvs.apply(lambda row: al.seed_pairs.get(str(row['l_custom_id']) + ',' + str(row['r_custom_id'])) != None, 1)]"
   ]
  },
  {
   "cell_type": "code",
   "execution_count": 33,
   "metadata": {
    "collapsed": false
   },
   "outputs": [
    {
     "ename": "KeyError",
     "evalue": "('l_custom_id', u'occurred at index l_custom_id')",
     "output_type": "error",
     "traceback": [
      "\u001b[1;31m---------------------------------------------------------------------------\u001b[0m",
      "\u001b[1;31mKeyError\u001b[0m                                  Traceback (most recent call last)",
      "\u001b[1;32m<ipython-input-33-8c8fee5ccde9>\u001b[0m in \u001b[0;36m<module>\u001b[1;34m()\u001b[0m\n\u001b[1;32m----> 1\u001b[1;33m \u001b[0mal\u001b[0m\u001b[1;33m.\u001b[0m\u001b[0mlearn\u001b[0m\u001b[1;33m(\u001b[0m\u001b[0mfvs\u001b[0m\u001b[1;33m,\u001b[0m \u001b[1;34m'_id'\u001b[0m\u001b[1;33m,\u001b[0m \u001b[1;34m'l_custom_id'\u001b[0m\u001b[1;33m,\u001b[0m\u001b[1;34m'r_custom_id'\u001b[0m\u001b[1;33m)\u001b[0m\u001b[1;33m\u001b[0m\u001b[0m\n\u001b[0m",
      "\u001b[1;32m/afs/cs.wisc.edu/u/p/a/paulgc/git-repos/ssj_dev/py_stringsimjoin/active_learner/active_learner.py\u001b[0m in \u001b[0;36mlearn\u001b[1;34m(self, candset, candset_key_attr, candset_l_key_attr, candset_r_key_attr)\u001b[0m\n\u001b[0;32m     22\u001b[0m         \u001b[0mfeature_attrs\u001b[0m\u001b[1;33m.\u001b[0m\u001b[0mremove\u001b[0m\u001b[1;33m(\u001b[0m\u001b[0mcandset_l_key_attr\u001b[0m\u001b[1;33m)\u001b[0m\u001b[1;33m\u001b[0m\u001b[0m\n\u001b[0;32m     23\u001b[0m         \u001b[0mfeature_attrs\u001b[0m\u001b[1;33m.\u001b[0m\u001b[0mremove\u001b[0m\u001b[1;33m(\u001b[0m\u001b[0mcandset_r_key_attr\u001b[0m\u001b[1;33m)\u001b[0m\u001b[1;33m\u001b[0m\u001b[0m\n\u001b[1;32m---> 24\u001b[1;33m \u001b[1;33m\u001b[0m\u001b[0m\n\u001b[0m\u001b[0;32m     25\u001b[0m         \u001b[1;31m# randomly select first batch of pairs to label\u001b[0m\u001b[1;33m\u001b[0m\u001b[1;33m\u001b[0m\u001b[0m\n\u001b[0;32m     26\u001b[0m         \u001b[0mfirst_batch\u001b[0m \u001b[1;33m=\u001b[0m \u001b[0munlabeled_pairs\u001b[0m\u001b[1;33m.\u001b[0m\u001b[0msample\u001b[0m\u001b[1;33m(\u001b[0m\u001b[0mself\u001b[0m\u001b[1;33m.\u001b[0m\u001b[0mbatch_size\u001b[0m\u001b[1;33m)\u001b[0m\u001b[1;33m\u001b[0m\u001b[0m\n",
      "\u001b[1;32m/afs/cs.wisc.edu/u/p/a/paulgc/git-repos/ssj_dev/py_stringsimjoin/active_learner/active_learner.py\u001b[0m in \u001b[0;36m_get_first_batch\u001b[1;34m(self, unlabeled_pairs, l_key_attr, r_key_attr)\u001b[0m\n\u001b[0;32m     94\u001b[0m \u001b[1;31m#        if arr[0] > 0:\u001b[0m\u001b[1;33m\u001b[0m\u001b[1;33m\u001b[0m\u001b[0m\n\u001b[0;32m     95\u001b[0m \u001b[1;31m#            entropy += arr[0] * log(arr[0])\u001b[0m\u001b[1;33m\u001b[0m\u001b[1;33m\u001b[0m\u001b[0m\n\u001b[1;32m---> 96\u001b[1;33m \u001b[1;31m#        if arr[1] > 0:\u001b[0m\u001b[1;33m\u001b[0m\u001b[1;33m\u001b[0m\u001b[0m\n\u001b[0m\u001b[0;32m     97\u001b[0m \u001b[1;31m#            entropy += arr[1] * log(arr[1])\u001b[0m\u001b[1;33m\u001b[0m\u001b[1;33m\u001b[0m\u001b[0m\n\u001b[0;32m     98\u001b[0m         \u001b[1;32mreturn\u001b[0m \u001b[0mentropy\u001b[0m\u001b[1;33m\u001b[0m\u001b[0m\n",
      "\u001b[1;32m/scratch/anaconda/lib/python2.7/site-packages/pandas/core/frame.pyc\u001b[0m in \u001b[0;36mapply\u001b[1;34m(self, func, axis, broadcast, raw, reduce, args, **kwds)\u001b[0m\n\u001b[0;32m   4059\u001b[0m                     \u001b[1;32mif\u001b[0m \u001b[0mreduce\u001b[0m \u001b[1;32mis\u001b[0m \u001b[0mNone\u001b[0m\u001b[1;33m:\u001b[0m\u001b[1;33m\u001b[0m\u001b[0m\n\u001b[0;32m   4060\u001b[0m                         \u001b[0mreduce\u001b[0m \u001b[1;33m=\u001b[0m \u001b[0mTrue\u001b[0m\u001b[1;33m\u001b[0m\u001b[0m\n\u001b[1;32m-> 4061\u001b[1;33m                     \u001b[1;32mreturn\u001b[0m \u001b[0mself\u001b[0m\u001b[1;33m.\u001b[0m\u001b[0m_apply_standard\u001b[0m\u001b[1;33m(\u001b[0m\u001b[0mf\u001b[0m\u001b[1;33m,\u001b[0m \u001b[0maxis\u001b[0m\u001b[1;33m,\u001b[0m \u001b[0mreduce\u001b[0m\u001b[1;33m=\u001b[0m\u001b[0mreduce\u001b[0m\u001b[1;33m)\u001b[0m\u001b[1;33m\u001b[0m\u001b[0m\n\u001b[0m\u001b[0;32m   4062\u001b[0m             \u001b[1;32melse\u001b[0m\u001b[1;33m:\u001b[0m\u001b[1;33m\u001b[0m\u001b[0m\n\u001b[0;32m   4063\u001b[0m                 \u001b[1;32mreturn\u001b[0m \u001b[0mself\u001b[0m\u001b[1;33m.\u001b[0m\u001b[0m_apply_broadcast\u001b[0m\u001b[1;33m(\u001b[0m\u001b[0mf\u001b[0m\u001b[1;33m,\u001b[0m \u001b[0maxis\u001b[0m\u001b[1;33m)\u001b[0m\u001b[1;33m\u001b[0m\u001b[0m\n",
      "\u001b[1;32m/scratch/anaconda/lib/python2.7/site-packages/pandas/core/frame.pyc\u001b[0m in \u001b[0;36m_apply_standard\u001b[1;34m(self, func, axis, ignore_failures, reduce)\u001b[0m\n\u001b[0;32m   4155\u001b[0m             \u001b[1;32mtry\u001b[0m\u001b[1;33m:\u001b[0m\u001b[1;33m\u001b[0m\u001b[0m\n\u001b[0;32m   4156\u001b[0m                 \u001b[1;32mfor\u001b[0m \u001b[0mi\u001b[0m\u001b[1;33m,\u001b[0m \u001b[0mv\u001b[0m \u001b[1;32min\u001b[0m \u001b[0menumerate\u001b[0m\u001b[1;33m(\u001b[0m\u001b[0mseries_gen\u001b[0m\u001b[1;33m)\u001b[0m\u001b[1;33m:\u001b[0m\u001b[1;33m\u001b[0m\u001b[0m\n\u001b[1;32m-> 4157\u001b[1;33m                     \u001b[0mresults\u001b[0m\u001b[1;33m[\u001b[0m\u001b[0mi\u001b[0m\u001b[1;33m]\u001b[0m \u001b[1;33m=\u001b[0m \u001b[0mfunc\u001b[0m\u001b[1;33m(\u001b[0m\u001b[0mv\u001b[0m\u001b[1;33m)\u001b[0m\u001b[1;33m\u001b[0m\u001b[0m\n\u001b[0m\u001b[0;32m   4158\u001b[0m                     \u001b[0mkeys\u001b[0m\u001b[1;33m.\u001b[0m\u001b[0mappend\u001b[0m\u001b[1;33m(\u001b[0m\u001b[0mv\u001b[0m\u001b[1;33m.\u001b[0m\u001b[0mname\u001b[0m\u001b[1;33m)\u001b[0m\u001b[1;33m\u001b[0m\u001b[0m\n\u001b[0;32m   4159\u001b[0m             \u001b[1;32mexcept\u001b[0m \u001b[0mException\u001b[0m \u001b[1;32mas\u001b[0m \u001b[0me\u001b[0m\u001b[1;33m:\u001b[0m\u001b[1;33m\u001b[0m\u001b[0m\n",
      "\u001b[1;32m/afs/cs.wisc.edu/u/p/a/paulgc/git-repos/ssj_dev/py_stringsimjoin/active_learner/active_learner.py\u001b[0m in \u001b[0;36m<lambda>\u001b[1;34m(row)\u001b[0m\n\u001b[0;32m     95\u001b[0m \u001b[1;31m#            entropy += arr[0] * log(arr[0])\u001b[0m\u001b[1;33m\u001b[0m\u001b[1;33m\u001b[0m\u001b[0m\n\u001b[0;32m     96\u001b[0m \u001b[1;31m#        if arr[1] > 0:\u001b[0m\u001b[1;33m\u001b[0m\u001b[1;33m\u001b[0m\u001b[0m\n\u001b[1;32m---> 97\u001b[1;33m \u001b[1;31m#            entropy += arr[1] * log(arr[1])\u001b[0m\u001b[1;33m\u001b[0m\u001b[1;33m\u001b[0m\u001b[0m\n\u001b[0m\u001b[0;32m     98\u001b[0m         \u001b[1;32mreturn\u001b[0m \u001b[0mentropy\u001b[0m\u001b[1;33m\u001b[0m\u001b[0m\n\u001b[0;32m     99\u001b[0m \u001b[1;33m\u001b[0m\u001b[0m\n",
      "\u001b[1;32m/scratch/anaconda/lib/python2.7/site-packages/pandas/core/series.pyc\u001b[0m in \u001b[0;36m__getitem__\u001b[1;34m(self, key)\u001b[0m\n\u001b[0;32m    581\u001b[0m         \u001b[0mkey\u001b[0m \u001b[1;33m=\u001b[0m \u001b[0mcom\u001b[0m\u001b[1;33m.\u001b[0m\u001b[0m_apply_if_callable\u001b[0m\u001b[1;33m(\u001b[0m\u001b[0mkey\u001b[0m\u001b[1;33m,\u001b[0m \u001b[0mself\u001b[0m\u001b[1;33m)\u001b[0m\u001b[1;33m\u001b[0m\u001b[0m\n\u001b[0;32m    582\u001b[0m         \u001b[1;32mtry\u001b[0m\u001b[1;33m:\u001b[0m\u001b[1;33m\u001b[0m\u001b[0m\n\u001b[1;32m--> 583\u001b[1;33m             \u001b[0mresult\u001b[0m \u001b[1;33m=\u001b[0m \u001b[0mself\u001b[0m\u001b[1;33m.\u001b[0m\u001b[0mindex\u001b[0m\u001b[1;33m.\u001b[0m\u001b[0mget_value\u001b[0m\u001b[1;33m(\u001b[0m\u001b[0mself\u001b[0m\u001b[1;33m,\u001b[0m \u001b[0mkey\u001b[0m\u001b[1;33m)\u001b[0m\u001b[1;33m\u001b[0m\u001b[0m\n\u001b[0m\u001b[0;32m    584\u001b[0m \u001b[1;33m\u001b[0m\u001b[0m\n\u001b[0;32m    585\u001b[0m             \u001b[1;32mif\u001b[0m \u001b[1;32mnot\u001b[0m \u001b[0mlib\u001b[0m\u001b[1;33m.\u001b[0m\u001b[0misscalar\u001b[0m\u001b[1;33m(\u001b[0m\u001b[0mresult\u001b[0m\u001b[1;33m)\u001b[0m\u001b[1;33m:\u001b[0m\u001b[1;33m\u001b[0m\u001b[0m\n",
      "\u001b[1;32m/scratch/anaconda/lib/python2.7/site-packages/pandas/indexes/base.pyc\u001b[0m in \u001b[0;36mget_value\u001b[1;34m(self, series, key)\u001b[0m\n\u001b[0;32m   1978\u001b[0m         \u001b[1;32mtry\u001b[0m\u001b[1;33m:\u001b[0m\u001b[1;33m\u001b[0m\u001b[0m\n\u001b[0;32m   1979\u001b[0m             return self._engine.get_value(s, k,\n\u001b[1;32m-> 1980\u001b[1;33m                                           tz=getattr(series.dtype, 'tz', None))\n\u001b[0m\u001b[0;32m   1981\u001b[0m         \u001b[1;32mexcept\u001b[0m \u001b[0mKeyError\u001b[0m \u001b[1;32mas\u001b[0m \u001b[0me1\u001b[0m\u001b[1;33m:\u001b[0m\u001b[1;33m\u001b[0m\u001b[0m\n\u001b[0;32m   1982\u001b[0m             \u001b[1;32mif\u001b[0m \u001b[0mlen\u001b[0m\u001b[1;33m(\u001b[0m\u001b[0mself\u001b[0m\u001b[1;33m)\u001b[0m \u001b[1;33m>\u001b[0m \u001b[1;36m0\u001b[0m \u001b[1;32mand\u001b[0m \u001b[0mself\u001b[0m\u001b[1;33m.\u001b[0m\u001b[0minferred_type\u001b[0m \u001b[1;32min\u001b[0m \u001b[1;33m[\u001b[0m\u001b[1;34m'integer'\u001b[0m\u001b[1;33m,\u001b[0m \u001b[1;34m'boolean'\u001b[0m\u001b[1;33m]\u001b[0m\u001b[1;33m:\u001b[0m\u001b[1;33m\u001b[0m\u001b[0m\n",
      "\u001b[1;32mpandas/index.pyx\u001b[0m in \u001b[0;36mpandas.index.IndexEngine.get_value (pandas/index.c:3332)\u001b[1;34m()\u001b[0m\n",
      "\u001b[1;32mpandas/index.pyx\u001b[0m in \u001b[0;36mpandas.index.IndexEngine.get_value (pandas/index.c:3035)\u001b[1;34m()\u001b[0m\n",
      "\u001b[1;32mpandas/index.pyx\u001b[0m in \u001b[0;36mpandas.index.IndexEngine.get_loc (pandas/index.c:4084)\u001b[1;34m()\u001b[0m\n",
      "\u001b[1;31mKeyError\u001b[0m: ('l_custom_id', u'occurred at index l_custom_id')"
     ]
    }
   ],
   "source": [
    "al.learn(fvs, '_id', 'l_custom_id','r_custom_id')"
   ]
  },
  {
   "cell_type": "code",
   "execution_count": null,
   "metadata": {
    "collapsed": true
   },
   "outputs": [],
   "source": []
  },
  {
   "cell_type": "code",
   "execution_count": null,
   "metadata": {
    "collapsed": true
   },
   "outputs": [],
   "source": []
  },
  {
   "cell_type": "code",
   "execution_count": 43,
   "metadata": {
    "collapsed": false
   },
   "outputs": [
    {
     "data": {
      "text/plain": [
       "array([0])"
      ]
     },
     "execution_count": 43,
     "metadata": {},
     "output_type": "execute_result"
    }
   ],
   "source": [
    "al.matcher.classes_"
   ]
  },
  {
   "cell_type": "code",
   "execution_count": 42,
   "metadata": {
    "collapsed": false
   },
   "outputs": [
    {
     "data": {
      "image/svg+xml": [
       "<?xml version=\"1.0\" encoding=\"UTF-8\" standalone=\"no\"?>\n",
       "<!DOCTYPE svg PUBLIC \"-//W3C//DTD SVG 1.1//EN\"\n",
       " \"http://www.w3.org/Graphics/SVG/1.1/DTD/svg11.dtd\">\n",
       "<!-- Generated by graphviz version 2.26.0 (20091210.2329)\n",
       " -->\n",
       "<!-- Title: Tree Pages: 1 -->\n",
       "<svg width=\"106pt\" height=\"74pt\"\n",
       " viewBox=\"0.00 0.00 106.00 74.00\" xmlns=\"http://www.w3.org/2000/svg\" xmlns:xlink=\"http://www.w3.org/1999/xlink\">\n",
       "<g id=\"graph1\" class=\"graph\" transform=\"scale(1 1) rotate(0) translate(4 70)\">\n",
       "<title>Tree</title>\n",
       "<polygon fill=\"white\" stroke=\"white\" points=\"-4,5 -4,-70 103,-70 103,5 -4,5\"/>\n",
       "<!-- 0 -->\n",
       "<g id=\"node1\" class=\"node\"><title>0</title>\n",
       "<polygon fill=\"none\" stroke=\"black\" points=\"98,-65.5 4.26326e-14,-65.5 0,-0.5 98,-0.5 98,-65.5\"/>\n",
       "<text text-anchor=\"middle\" x=\"49\" y=\"-48.9\" font-family=\"Times Roman,serif\" font-size=\"14.00\">gini = 0.0000</text>\n",
       "<text text-anchor=\"middle\" x=\"49\" y=\"-29.9\" font-family=\"Times Roman,serif\" font-size=\"14.00\">samples = 256</text>\n",
       "<text text-anchor=\"middle\" x=\"49\" y=\"-10.9\" font-family=\"Times Roman,serif\" font-size=\"14.00\">value = [ 400.]</text>\n",
       "</g>\n",
       "</g>\n",
       "</svg>\n"
      ],
      "text/plain": [
       "<graphviz.files.Source at 0x7fd36f745790>"
      ]
     },
     "execution_count": 42,
     "metadata": {},
     "output_type": "execute_result"
    }
   ],
   "source": [
    "feature_attrs=['jaccard_ws', 'cosine_ws', 'dice_ws', 'overlap_ws', 'overlap_coefficient_ws']\n",
    "export_graphviz(al.matcher.estimators_[2], out_file=\"mytree.dot\", feature_names=feature_attrs)\n",
    "with open(\"mytree.dot\") as f:\n",
    "    dot_graph = f.read()\n",
    "graphviz.Source(dot_graph)\n"
   ]
  },
  {
   "cell_type": "code",
   "execution_count": null,
   "metadata": {
    "collapsed": true
   },
   "outputs": [],
   "source": []
  }
 ],
 "metadata": {
  "kernelspec": {
   "display_name": "Python 2",
   "language": "python",
   "name": "python2"
  },
  "language_info": {
   "codemirror_mode": {
    "name": "ipython",
    "version": 2
   },
   "file_extension": ".py",
   "mimetype": "text/x-python",
   "name": "python",
   "nbconvert_exporter": "python",
   "pygments_lexer": "ipython2",
   "version": "2.7.12"
  }
 },
 "nbformat": 4,
 "nbformat_minor": 0
}
