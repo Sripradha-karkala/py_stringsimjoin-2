{
 "cells": [
  {
   "cell_type": "code",
   "execution_count": 1,
   "metadata": {
    "collapsed": true
   },
   "outputs": [],
   "source": [
    "from py_stringsimjoin.sampler.sample import sample_pairs\n",
    "from py_stringsimjoin.feature.autofeaturegen import get_features\n",
    "from py_stringsimjoin.feature.extractfeatures import extract_feature_vecs\n",
    "from py_stringsimjoin.active_learner.active_learner import ActiveLearner\n",
    "from sklearn.ensemble import RandomForestClassifier\n",
    "from sklearn.tree import DecisionTreeClassifier, export_graphviz\n",
    "import pandas as pd\n",
    "import graphviz"
   ]
  },
  {
   "cell_type": "code",
   "execution_count": 14,
   "metadata": {
    "collapsed": true
   },
   "outputs": [],
   "source": [
    "#ldf=pd.read_csv('/scratch/songs/msd_reduced.csv').head(10000)\n",
    "#rdf=pd.read_csv('/scratch/songs/msd_reduced.csv').head(10000)\n",
    "ldf=pd.read_csv('/scratch/products_data/walmart_clean.csv')\n",
    "rdf=pd.read_csv('/scratch/products_data/amazon_clean.csv')"
   ]
  },
  {
   "cell_type": "code",
   "execution_count": 36,
   "metadata": {
    "collapsed": false
   },
   "outputs": [
    {
     "data": {
      "text/plain": [
       "0    The pocket-size Koss 3-Band Equalizer delivers high-fidelity performance and output normally res...\n",
       "1                                        Kodak Black Ink Cartridge 10B is a standard black ink cartridge\n",
       "2                                                  1GB - 333MHz DDR333 PC2700 - DDR SDRAM - 184-pin DIMM\n",
       "3    KINAMAX MS-UES2 Mini High Precision USB 3-Button 3D Optical Scroll Wheel Mouse with Retractable ...\n",
       "4                                                                    Wireless MOUSE FOR NETBOOKS USBWRLS\n",
       "Name: proddescrlong, dtype: object"
      ]
     },
     "execution_count": 36,
     "metadata": {},
     "output_type": "execute_result"
    }
   ],
   "source": [
    "rdf.head()['proddescrlong']"
   ]
  },
  {
   "cell_type": "code",
   "execution_count": 15,
   "metadata": {
    "collapsed": false
   },
   "outputs": [
    {
     "name": "stderr",
     "output_type": "stream",
     "text": [
      "0%                          100%\n",
      "[##############################] | ETA: 00:00:00\n",
      "Total time elapsed: 00:00:13\n"
     ]
    }
   ],
   "source": [
    "c=sample_pairs(ldf,rdf,'custom_id','custom_id','longdescr','proddescrlong',500000, 100)"
   ]
  },
  {
   "cell_type": "code",
   "execution_count": 16,
   "metadata": {
    "collapsed": false
   },
   "outputs": [
    {
     "name": "stderr",
     "output_type": "stream",
     "text": [
      "0%                          100%\n",
      "[                              ]\r",
      "[#                             ] | ETA: 00:03:00\r",
      "[##                            ] | ETA: 00:02:55\r",
      "[###                           ] | ETA: 00:02:48\r",
      "[####                          ] | ETA: 00:02:38\r",
      "[#####                         ] | ETA: 00:02:34\r",
      "[######                        ] | ETA: 00:02:27\r",
      "[#######                       ] | ETA: 00:02:22\r",
      "[########                      ] | ETA: 00:02:17\r",
      "[#########                     ] | ETA: 00:02:12\r",
      "[##########                    ] | ETA: 00:02:06\r",
      "[###########                   ] | ETA: 00:01:59\r",
      "[############                  ] | ETA: 00:01:52\r",
      "[#############                 ] | ETA: 00:01:46\r",
      "[##############                ] | ETA: 00:01:40\r",
      "[###############               ] | ETA: 00:01:33\r",
      "[################              ] | ETA: 00:01:27\r",
      "[#################             ] | ETA: 00:01:21\r",
      "[##################            ] | ETA: 00:01:15\r",
      "[###################           ] | ETA: 00:01:09\r",
      "[####################          ] | ETA: 00:01:03\r",
      "[#####################         ] | ETA: 00:00:56\r",
      "[######################        ] | ETA: 00:00:50\r",
      "[#######################       ] | ETA: 00:00:44\r",
      "[########################      ] | ETA: 00:00:38\r",
      "[#########################     ] | ETA: 00:00:31\r",
      "[##########################    ] | ETA: 00:00:25\r",
      "[###########################   ] | ETA: 00:00:19\r",
      "[############################  ] | ETA: 00:00:12\r",
      "[############################# ] | ETA: 00:00:06\r",
      "[##############################] | ETA: 00:00:00\r",
      "[##############################] | ETA: 00:00:00\n",
      "Total time elapsed: 00:03:09\n"
     ]
    }
   ],
   "source": [
    "ft = get_features()\n",
    "fvs = extract_feature_vecs(c, 'l_custom_id','r_custom_id',ldf,rdf,'custom_id','custom_id','longdescr','proddescrlong',ft,n_jobs=4)"
   ]
  },
  {
   "cell_type": "code",
   "execution_count": 46,
   "metadata": {
    "collapsed": false
   },
   "outputs": [
    {
     "data": {
      "text/html": [
       "<div>\n",
       "<table border=\"1\" class=\"dataframe\">\n",
       "  <thead>\n",
       "    <tr style=\"text-align: right;\">\n",
       "      <th></th>\n",
       "      <th>_id</th>\n",
       "      <th>l_custom_id</th>\n",
       "      <th>r_custom_id</th>\n",
       "      <th>jaccard_ws</th>\n",
       "      <th>cosine_ws</th>\n",
       "      <th>dice_ws</th>\n",
       "      <th>overlap_ws</th>\n",
       "      <th>overlap_coefficient_ws</th>\n",
       "    </tr>\n",
       "  </thead>\n",
       "  <tbody>\n",
       "    <tr>\n",
       "      <th>48633</th>\n",
       "      <td>48633</td>\n",
       "      <td>167</td>\n",
       "      <td>19012</td>\n",
       "      <td>0.974026</td>\n",
       "      <td>0.986842</td>\n",
       "      <td>0.986842</td>\n",
       "      <td>75</td>\n",
       "      <td>0.986842</td>\n",
       "    </tr>\n",
       "    <tr>\n",
       "      <th>48667</th>\n",
       "      <td>48667</td>\n",
       "      <td>853</td>\n",
       "      <td>19012</td>\n",
       "      <td>0.974026</td>\n",
       "      <td>0.986842</td>\n",
       "      <td>0.986842</td>\n",
       "      <td>75</td>\n",
       "      <td>0.986842</td>\n",
       "    </tr>\n",
       "    <tr>\n",
       "      <th>48670</th>\n",
       "      <td>48670</td>\n",
       "      <td>2431</td>\n",
       "      <td>19012</td>\n",
       "      <td>0.974026</td>\n",
       "      <td>0.986842</td>\n",
       "      <td>0.986842</td>\n",
       "      <td>75</td>\n",
       "      <td>0.986842</td>\n",
       "    </tr>\n",
       "    <tr>\n",
       "      <th>48674</th>\n",
       "      <td>48674</td>\n",
       "      <td>2472</td>\n",
       "      <td>19012</td>\n",
       "      <td>0.974026</td>\n",
       "      <td>0.986842</td>\n",
       "      <td>0.986842</td>\n",
       "      <td>75</td>\n",
       "      <td>0.986842</td>\n",
       "    </tr>\n",
       "    <tr>\n",
       "      <th>15532</th>\n",
       "      <td>140532</td>\n",
       "      <td>167</td>\n",
       "      <td>8787</td>\n",
       "      <td>0.974026</td>\n",
       "      <td>0.986842</td>\n",
       "      <td>0.986842</td>\n",
       "      <td>75</td>\n",
       "      <td>0.986842</td>\n",
       "    </tr>\n",
       "    <tr>\n",
       "      <th>15564</th>\n",
       "      <td>140564</td>\n",
       "      <td>853</td>\n",
       "      <td>8787</td>\n",
       "      <td>0.974026</td>\n",
       "      <td>0.986842</td>\n",
       "      <td>0.986842</td>\n",
       "      <td>75</td>\n",
       "      <td>0.986842</td>\n",
       "    </tr>\n",
       "    <tr>\n",
       "      <th>15567</th>\n",
       "      <td>140567</td>\n",
       "      <td>2431</td>\n",
       "      <td>8787</td>\n",
       "      <td>0.974026</td>\n",
       "      <td>0.986842</td>\n",
       "      <td>0.986842</td>\n",
       "      <td>75</td>\n",
       "      <td>0.986842</td>\n",
       "    </tr>\n",
       "    <tr>\n",
       "      <th>15575</th>\n",
       "      <td>140575</td>\n",
       "      <td>2472</td>\n",
       "      <td>8787</td>\n",
       "      <td>0.974026</td>\n",
       "      <td>0.986842</td>\n",
       "      <td>0.986842</td>\n",
       "      <td>75</td>\n",
       "      <td>0.986842</td>\n",
       "    </tr>\n",
       "    <tr>\n",
       "      <th>123533</th>\n",
       "      <td>248533</td>\n",
       "      <td>167</td>\n",
       "      <td>14681</td>\n",
       "      <td>0.974026</td>\n",
       "      <td>0.986842</td>\n",
       "      <td>0.986842</td>\n",
       "      <td>75</td>\n",
       "      <td>0.986842</td>\n",
       "    </tr>\n",
       "    <tr>\n",
       "      <th>123562</th>\n",
       "      <td>248562</td>\n",
       "      <td>853</td>\n",
       "      <td>14681</td>\n",
       "      <td>0.974026</td>\n",
       "      <td>0.986842</td>\n",
       "      <td>0.986842</td>\n",
       "      <td>75</td>\n",
       "      <td>0.986842</td>\n",
       "    </tr>\n",
       "    <tr>\n",
       "      <th>123566</th>\n",
       "      <td>248566</td>\n",
       "      <td>2431</td>\n",
       "      <td>14681</td>\n",
       "      <td>0.974026</td>\n",
       "      <td>0.986842</td>\n",
       "      <td>0.986842</td>\n",
       "      <td>75</td>\n",
       "      <td>0.986842</td>\n",
       "    </tr>\n",
       "    <tr>\n",
       "      <th>123572</th>\n",
       "      <td>248572</td>\n",
       "      <td>2472</td>\n",
       "      <td>14681</td>\n",
       "      <td>0.974026</td>\n",
       "      <td>0.986842</td>\n",
       "      <td>0.986842</td>\n",
       "      <td>75</td>\n",
       "      <td>0.986842</td>\n",
       "    </tr>\n",
       "  </tbody>\n",
       "</table>\n",
       "</div>"
      ],
      "text/plain": [
       "           _id  l_custom_id  r_custom_id  jaccard_ws  cosine_ws   dice_ws  \\\n",
       "48633    48633          167        19012    0.974026   0.986842  0.986842   \n",
       "48667    48667          853        19012    0.974026   0.986842  0.986842   \n",
       "48670    48670         2431        19012    0.974026   0.986842  0.986842   \n",
       "48674    48674         2472        19012    0.974026   0.986842  0.986842   \n",
       "15532   140532          167         8787    0.974026   0.986842  0.986842   \n",
       "15564   140564          853         8787    0.974026   0.986842  0.986842   \n",
       "15567   140567         2431         8787    0.974026   0.986842  0.986842   \n",
       "15575   140575         2472         8787    0.974026   0.986842  0.986842   \n",
       "123533  248533          167        14681    0.974026   0.986842  0.986842   \n",
       "123562  248562          853        14681    0.974026   0.986842  0.986842   \n",
       "123566  248566         2431        14681    0.974026   0.986842  0.986842   \n",
       "123572  248572         2472        14681    0.974026   0.986842  0.986842   \n",
       "\n",
       "        overlap_ws  overlap_coefficient_ws  \n",
       "48633           75                0.986842  \n",
       "48667           75                0.986842  \n",
       "48670           75                0.986842  \n",
       "48674           75                0.986842  \n",
       "15532           75                0.986842  \n",
       "15564           75                0.986842  \n",
       "15567           75                0.986842  \n",
       "15575           75                0.986842  \n",
       "123533          75                0.986842  \n",
       "123562          75                0.986842  \n",
       "123566          75                0.986842  \n",
       "123572          75                0.986842  "
      ]
     },
     "execution_count": 46,
     "metadata": {},
     "output_type": "execute_result"
    }
   ],
   "source": [
    "fvs.head()\n",
    "fvs[fvs['jaccard_ws']==0.97402597402597402]\n"
   ]
  },
  {
   "cell_type": "code",
   "execution_count": 47,
   "metadata": {
    "collapsed": false
   },
   "outputs": [],
   "source": [
    "rf=RandomForestClassifier(10)\n",
    "al=ActiveLearner(rf, 20, 20, '/scratch/products_data/productsGold.csv')\n",
    "labels = (fvs['l_custom_id'].astype(str) + ',' +  fvs['r_custom_id'].astype(str)).apply(lambda val: al.gold_pairs.get(val, 0))"
   ]
  },
  {
   "cell_type": "code",
   "execution_count": 48,
   "metadata": {
    "collapsed": false
   },
   "outputs": [
    {
     "data": {
      "text/plain": [
       "147"
      ]
     },
     "execution_count": 48,
     "metadata": {},
     "output_type": "execute_result"
    }
   ],
   "source": []
  },
  {
   "cell_type": "code",
   "execution_count": 40,
   "metadata": {
    "collapsed": false
   },
   "outputs": [
    {
     "name": "stdout",
     "output_type": "stream",
     "text": [
      "Selecting next batch...\n",
      "Collecting labels...\n",
      "Iteration : 1\n",
      "Selecting next batch...\n",
      "Collecting labels...\n",
      "Iteration : 2\n",
      "Selecting next batch...\n",
      "Collecting labels...\n",
      "Iteration : 3\n",
      "Selecting next batch...\n",
      "Collecting labels...\n",
      "Iteration : 4\n",
      "Selecting next batch...\n",
      "Collecting labels...\n",
      "Iteration : 5\n",
      "Selecting next batch...\n",
      "Collecting labels...\n",
      "Iteration : 6\n",
      "Selecting next batch...\n",
      "Collecting labels...\n",
      "Iteration : 7\n",
      "Selecting next batch...\n",
      "Collecting labels...\n",
      "Iteration : 8\n",
      "Selecting next batch...\n",
      "Collecting labels...\n",
      "Iteration : 9\n",
      "Selecting next batch...\n",
      "Collecting labels...\n",
      "Iteration : 10\n",
      "Selecting next batch...\n",
      "Collecting labels...\n",
      "Iteration : 11\n",
      "Selecting next batch...\n",
      "Collecting labels...\n",
      "Iteration : 12\n",
      "Selecting next batch...\n",
      "Collecting labels...\n",
      "Iteration : 13\n",
      "Selecting next batch...\n",
      "Collecting labels...\n",
      "Iteration : 14\n",
      "Selecting next batch...\n",
      "Collecting labels...\n",
      "Iteration : 15\n",
      "Selecting next batch...\n",
      "Collecting labels...\n",
      "Iteration : 16\n",
      "Selecting next batch...\n",
      "Collecting labels...\n",
      "Iteration : 17\n",
      "Selecting next batch...\n",
      "Collecting labels...\n",
      "Iteration : 18\n",
      "Selecting next batch...\n",
      "Collecting labels...\n",
      "Iteration : 19\n",
      "Selecting next batch...\n",
      "Collecting labels...\n",
      "Iteration : 20\n"
     ]
    }
   ],
   "source": [
    "al.learn(fvs, '_id', 'l_custom_id','r_custom_id')"
   ]
  },
  {
   "cell_type": "code",
   "execution_count": null,
   "metadata": {
    "collapsed": true
   },
   "outputs": [],
   "source": []
  },
  {
   "cell_type": "code",
   "execution_count": null,
   "metadata": {
    "collapsed": true
   },
   "outputs": [],
   "source": []
  },
  {
   "cell_type": "code",
   "execution_count": 43,
   "metadata": {
    "collapsed": false
   },
   "outputs": [
    {
     "data": {
      "text/plain": [
       "array([0])"
      ]
     },
     "execution_count": 43,
     "metadata": {},
     "output_type": "execute_result"
    }
   ],
   "source": [
    "al.matcher.classes_"
   ]
  },
  {
   "cell_type": "code",
   "execution_count": 42,
   "metadata": {
    "collapsed": false
   },
   "outputs": [
    {
     "data": {
      "image/svg+xml": [
       "<?xml version=\"1.0\" encoding=\"UTF-8\" standalone=\"no\"?>\n",
       "<!DOCTYPE svg PUBLIC \"-//W3C//DTD SVG 1.1//EN\"\n",
       " \"http://www.w3.org/Graphics/SVG/1.1/DTD/svg11.dtd\">\n",
       "<!-- Generated by graphviz version 2.26.0 (20091210.2329)\n",
       " -->\n",
       "<!-- Title: Tree Pages: 1 -->\n",
       "<svg width=\"106pt\" height=\"74pt\"\n",
       " viewBox=\"0.00 0.00 106.00 74.00\" xmlns=\"http://www.w3.org/2000/svg\" xmlns:xlink=\"http://www.w3.org/1999/xlink\">\n",
       "<g id=\"graph1\" class=\"graph\" transform=\"scale(1 1) rotate(0) translate(4 70)\">\n",
       "<title>Tree</title>\n",
       "<polygon fill=\"white\" stroke=\"white\" points=\"-4,5 -4,-70 103,-70 103,5 -4,5\"/>\n",
       "<!-- 0 -->\n",
       "<g id=\"node1\" class=\"node\"><title>0</title>\n",
       "<polygon fill=\"none\" stroke=\"black\" points=\"98,-65.5 4.26326e-14,-65.5 0,-0.5 98,-0.5 98,-65.5\"/>\n",
       "<text text-anchor=\"middle\" x=\"49\" y=\"-48.9\" font-family=\"Times Roman,serif\" font-size=\"14.00\">gini = 0.0000</text>\n",
       "<text text-anchor=\"middle\" x=\"49\" y=\"-29.9\" font-family=\"Times Roman,serif\" font-size=\"14.00\">samples = 256</text>\n",
       "<text text-anchor=\"middle\" x=\"49\" y=\"-10.9\" font-family=\"Times Roman,serif\" font-size=\"14.00\">value = [ 400.]</text>\n",
       "</g>\n",
       "</g>\n",
       "</svg>\n"
      ],
      "text/plain": [
       "<graphviz.files.Source at 0x7fd36f745790>"
      ]
     },
     "execution_count": 42,
     "metadata": {},
     "output_type": "execute_result"
    }
   ],
   "source": [
    "feature_attrs=['jaccard_ws', 'cosine_ws', 'dice_ws', 'overlap_ws', 'overlap_coefficient_ws']\n",
    "export_graphviz(al.matcher.estimators_[2], out_file=\"mytree.dot\", feature_names=feature_attrs)\n",
    "with open(\"mytree.dot\") as f:\n",
    "    dot_graph = f.read()\n",
    "graphviz.Source(dot_graph)\n"
   ]
  },
  {
   "cell_type": "code",
   "execution_count": null,
   "metadata": {
    "collapsed": true
   },
   "outputs": [],
   "source": []
  }
 ],
 "metadata": {
  "kernelspec": {
   "display_name": "Python 2",
   "language": "python",
   "name": "python2"
  },
  "language_info": {
   "codemirror_mode": {
    "name": "ipython",
    "version": 2
   },
   "file_extension": ".py",
   "mimetype": "text/x-python",
   "name": "python",
   "nbconvert_exporter": "python",
   "pygments_lexer": "ipython2",
   "version": "2.7.12"
  }
 },
 "nbformat": 4,
 "nbformat_minor": 0
}
